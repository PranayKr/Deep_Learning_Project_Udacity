{
 "cells": [
  {
   "cell_type": "markdown",
   "metadata": {
    "deletable": true,
    "editable": true
   },
   "source": [
    "# TV Script Generation\n",
    "In this project, you'll generate your own [Simpsons](https://en.wikipedia.org/wiki/The_Simpsons) TV scripts using RNNs.  You'll be using part of the [Simpsons dataset](https://www.kaggle.com/wcukierski/the-simpsons-by-the-data) of scripts from 27 seasons.  The Neural Network you'll build will generate a new TV script for a scene at [Moe's Tavern](https://simpsonswiki.com/wiki/Moe's_Tavern).\n",
    "## Get the Data\n",
    "The data is already provided for you.  You'll be using a subset of the original dataset.  It consists of only the scenes in Moe's Tavern.  This doesn't include other versions of the tavern, like \"Moe's Cavern\", \"Flaming Moe's\", \"Uncle Moe's Family Feed-Bag\", etc.."
   ]
  },
  {
   "cell_type": "code",
   "execution_count": 1,
   "metadata": {
    "collapsed": false,
    "deletable": true,
    "editable": true
   },
   "outputs": [],
   "source": [
    "\"\"\"\n",
    "DON'T MODIFY ANYTHING IN THIS CELL\n",
    "\"\"\"\n",
    "import helper\n",
    "\n",
    "data_dir = './data/simpsons/moes_tavern_lines.txt'\n",
    "text = helper.load_data(data_dir)\n",
    "# Ignore notice, since we don't use it for analysing the data\n",
    "text = text[81:]"
   ]
  },
  {
   "cell_type": "markdown",
   "metadata": {
    "deletable": true,
    "editable": true
   },
   "source": [
    "## Explore the Data\n",
    "Play around with `view_sentence_range` to view different parts of the data."
   ]
  },
  {
   "cell_type": "code",
   "execution_count": 2,
   "metadata": {
    "collapsed": false,
    "deletable": true,
    "editable": true
   },
   "outputs": [
    {
     "name": "stdout",
     "output_type": "stream",
     "text": [
      "Dataset Stats\n",
      "Roughly the number of unique words: 11492\n",
      "Number of scenes: 262\n",
      "Average number of sentences in each scene: 15.248091603053435\n",
      "Number of lines: 4257\n",
      "Average number of words in each line: 11.50434578341555\n",
      "\n",
      "The sentences 60 to 130:\n",
      "Little_Man: (GRUDGINGLY) Okay. Okay. But now we're even. (TO HOMER) So what does your daughter need?\n",
      "Homer_Simpson: (SMOOTHLY) I'll have you know, I wrote it down.\n",
      "Homer_Simpson: Number Four and a half -- Stupid gum!\n",
      "Homer_Simpson: Number Four and a Half reed! Whoo hoo!\n",
      "Little_Man: Uh-huh. And what instrument does she play?\n",
      "Homer_Simpson: (SUNK) I dunno.\n",
      "\n",
      "\n",
      "Moe_Szyslak: (TO PATRONS) Figure of speech.\n",
      "Moe_Szyslak: Hiya, Homer. (SIGHS)\n",
      "Homer_Simpson: What's the matter, Moe?\n",
      "Moe_Szyslak: Ah, business is slow. People today are healthier and drinking less. You know, if it wasn't for the Junior High school next door no one would even use the cigarette machine.\n",
      "Homer_Simpson: (MOUTH FULL) Yeah, things are tough all over.\n",
      "Moe_Szyslak: Increased job satisfaction and family togetherness are poison for a purveyor of mind-numbing intoxicants like myself.\n",
      "Homer_Simpson: Could I get a beer?\n",
      "Moe_Szyslak: Uh, yeah, sure.\n",
      "Moe_Szyslak: Oh sorry, I forgot we're out of beer.\n",
      "Moe_Szyslak: Yeah, I know, I got behind on my beer payments. The distributor cut me off and I spent my last ten grand on the \"Love Tester\".\n",
      "Moe_Szyslak: You're too late, Homer. Barney sucked it dry. Cut his gums up pretty bad.\n",
      "Moe_Szyslak: Take it easy, Homer. I learned how to make other drinks at Bartender's School.\n",
      "Moe_Szyslak: (UNFAMILIAR) Gin and... tonic? Do they mix?\n",
      "Homer_Simpson: (BRIGHTENING) Hey, I know a good drink. Really hits the spot. I invented it myself...\n",
      "Moe_Szyslak: Sorry, Harv.\n",
      "Moe_Szyslak: Whoa, sounds like one hell of a drink. What do you call it?\n",
      "Homer_Simpson: A \"Flaming Homer\".\n",
      "Moe_Szyslak: Okay, why don't you make us up a couple of \"Flaming Homers\"?\n",
      "Homer_Simpson: Hey Moe, you got any cough syrup?\n",
      "Moe_Szyslak: Uh, let me check the lost and found.\n",
      "Moe_Szyslak: What do we got here, Bowie knife, troll doll, glass eye...\n",
      "Moe_Szyslak: Oh. Here we are.\n",
      "Moe_Szyslak: It's not without its charm.\n",
      "Homer_Simpson: Try lighting it on fire.\n",
      "Moe_Szyslak: (SMILING) Whoa! Homer, it's like there's a party in my mouth and everyone's invited.\n",
      "Larry: Hey, your Love Tester's busted. I want my nickel back. (COUGHS)\n",
      "Moe_Szyslak: Hey, buddy. Have one on the house.\n",
      "Larry: Hey, hey, this drink is delicious! And my phlegm feels looser. What do you call it?\n",
      "Homer_Simpson: Well, it's called a \"Flaming...\n",
      "Moe_Szyslak: Moe! It's called a \"Flaming Moe\"! That's right, a \"Flaming Moe\". My name is Moe, and I invented it. That's why it's called a Flaming Moe. What? What are you lookin' at, Homer? It's a Flaming Moe I'm Moe.\n",
      "Barney_Gumble: Hey, what's this?\n",
      "Moe_Szyslak: A sneeze guard.\n",
      "Barney_Gumble: Wow, it really works.\n",
      "HARV: (CHUCKLING) I'll be back.\n",
      "Homer_Simpson: Moe, I haven't seen the place this crowded since the government cracked down on you for accepting food stamps. Do you think my drink had something to do with it?\n",
      "Moe_Szyslak: Who can say? It's probably a combination of things.\n",
      "Patron_#1: (TO MOE) Another pitcher of those amazing \"Flaming Moe's\".\n",
      "Patron_#2: Boy, I hate this joint, but I love that drink.\n",
      "Collette: Barkeep, I couldn't help noticing your sign.\n",
      "Moe_Szyslak: The one that says, \"Bartenders Do It 'Til You Barf\"?\n",
      "Collette: No, above that store-bought drollery.\n",
      "Moe_Szyslak: Oh great! Why don't we fill out an application? (READING) I'll need your name, measurements and turn ons..\n",
      "Collette: You really expect me to tell you my measurements?\n",
      "Moe_Szyslak: You could, but I find this way is much more accurate... and fun.\n",
      "Collette: (DISGUSTED) what do you offer in the way of salary?\n",
      "Moe_Szyslak: Minimum wage and tips. (MEANINGFULLY) Of course there are fringe benefits.\n",
      "Collette: Such as?\n",
      "Moe_Szyslak: An unforgettable weekend at Club Moe.\n",
      "Collette: I prefer to take my vacations someplace hot.\n",
      "Moe_Szyslak: I like your moxie, kid. You're hired.\n",
      "Collette: You shan't regret this.\n",
      "Moe_Szyslak: Methinks I shan't.\n",
      "HARV: (TO MOE) Pardon me, are you the genius behind the \"Flaming Moe\"?\n",
      "Homer_Simpson: Why yes I --\n",
      "Moe_Szyslak: (CUTTING HIM OFF) I'm your man.\n",
      "HARV: Huh uh. My name is Harv Bannister. I work for \"Tipsy McStagger's Good Time Drinking and Eating Emporium\".\n",
      "Moe_Szyslak: Oh yeah? Hey, what's Mr. McStagger really like?\n",
      "HARV: Actually, there is no Tipsy McStagger. He's just a composite of other successful logos.\n",
      "Moe_Szyslak: Well, you tell him from me that he makes one great mozzarella stick.\n",
      "HARV: (QUICKLY) Yes, fine, I will. Anyway, I've got a proposition for you.\n",
      "Moe_Szyslak: Keep talkin'.\n",
      "HARV: We feel your \"Flaming Moe\" is perfect for our restaurant chain. We want to buy the recipe.\n"
     ]
    }
   ],
   "source": [
    "view_sentence_range = (60, 130)\n",
    "\n",
    "\"\"\"\n",
    "DON'T MODIFY ANYTHING IN THIS CELL\n",
    "\"\"\"\n",
    "import numpy as np\n",
    "\n",
    "print('Dataset Stats')\n",
    "print('Roughly the number of unique words: {}'.format(len({word: None for word in text.split()})))\n",
    "scenes = text.split('\\n\\n')\n",
    "print('Number of scenes: {}'.format(len(scenes)))\n",
    "sentence_count_scene = [scene.count('\\n') for scene in scenes]\n",
    "print('Average number of sentences in each scene: {}'.format(np.average(sentence_count_scene)))\n",
    "\n",
    "sentences = [sentence for scene in scenes for sentence in scene.split('\\n')]\n",
    "print('Number of lines: {}'.format(len(sentences)))\n",
    "word_count_sentence = [len(sentence.split()) for sentence in sentences]\n",
    "print('Average number of words in each line: {}'.format(np.average(word_count_sentence)))\n",
    "\n",
    "print()\n",
    "print('The sentences {} to {}:'.format(*view_sentence_range))\n",
    "print('\\n'.join(text.split('\\n')[view_sentence_range[0]:view_sentence_range[1]]))"
   ]
  },
  {
   "cell_type": "markdown",
   "metadata": {
    "deletable": true,
    "editable": true
   },
   "source": [
    "## Implement Preprocessing Functions\n",
    "The first thing to do to any dataset is preprocessing.  Implement the following preprocessing functions below:\n",
    "- Lookup Table\n",
    "- Tokenize Punctuation\n",
    "\n",
    "### Lookup Table\n",
    "To create a word embedding, you first need to transform the words to ids.  In this function, create two dictionaries:\n",
    "- Dictionary to go from the words to an id, we'll call `vocab_to_int`\n",
    "- Dictionary to go from the id to word, we'll call `int_to_vocab`\n",
    "\n",
    "Return these dictionaries in the following tuple `(vocab_to_int, int_to_vocab)`"
   ]
  },
  {
   "cell_type": "code",
   "execution_count": 3,
   "metadata": {
    "collapsed": false,
    "deletable": true,
    "editable": true
   },
   "outputs": [
    {
     "name": "stdout",
     "output_type": "stream",
     "text": [
      "Tests Passed\n"
     ]
    }
   ],
   "source": [
    "import numpy as np\n",
    "import problem_unittests as tests\n",
    "\n",
    "def create_lookup_tables(text):\n",
    "    \"\"\"\n",
    "    Create lookup tables for vocabulary\n",
    "    :param text: The text of tv scripts split into words\n",
    "    :return: A tuple of dicts (vocab_to_int, int_to_vocab)\n",
    "    \"\"\"\n",
    "    # TODO: Implement Function\n",
    "    \n",
    "    vocab_to_int = {}\n",
    "    \n",
    "    int_to_vocab = {}\n",
    "    \n",
    "    for i, w in enumerate(set(text)):\n",
    "        \n",
    "        vocab_to_int[w] = i\n",
    "        \n",
    "        int_to_vocab[i] = w\n",
    "    \n",
    "\n",
    "    return (vocab_to_int, int_to_vocab)\n",
    "   \n",
    "\n",
    "\n",
    "\"\"\"\n",
    "DON'T MODIFY ANYTHING IN THIS CELL THAT IS BELOW THIS LINE\n",
    "\"\"\"\n",
    "tests.test_create_lookup_tables(create_lookup_tables)"
   ]
  },
  {
   "cell_type": "markdown",
   "metadata": {
    "deletable": true,
    "editable": true
   },
   "source": [
    "### Tokenize Punctuation\n",
    "We'll be splitting the script into a word array using spaces as delimiters.  However, punctuations like periods and exclamation marks make it hard for the neural network to distinguish between the word \"bye\" and \"bye!\".\n",
    "\n",
    "Implement the function `token_lookup` to return a dict that will be used to tokenize symbols like \"!\" into \"||Exclamation_Mark||\".  Create a dictionary for the following symbols where the symbol is the key and value is the token:\n",
    "- Period ( . )\n",
    "- Comma ( , )\n",
    "- Quotation Mark ( \" )\n",
    "- Semicolon ( ; )\n",
    "- Exclamation mark ( ! )\n",
    "- Question mark ( ? )\n",
    "- Left Parentheses ( ( )\n",
    "- Right Parentheses ( ) )\n",
    "- Dash ( -- )\n",
    "- Return ( \\n )\n",
    "\n",
    "This dictionary will be used to token the symbols and add the delimiter (space) around it.  This separates the symbols as it's own word, making it easier for the neural network to predict on the next word. Make sure you don't use a token that could be confused as a word. Instead of using the token \"dash\", try using something like \"||dash||\"."
   ]
  },
  {
   "cell_type": "code",
   "execution_count": 4,
   "metadata": {
    "collapsed": false,
    "deletable": true,
    "editable": true
   },
   "outputs": [
    {
     "name": "stdout",
     "output_type": "stream",
     "text": [
      "Tests Passed\n"
     ]
    }
   ],
   "source": [
    "def token_lookup():\n",
    "    \"\"\"\n",
    "    Generate a dict to turn punctuation into a token.\n",
    "    :return: Tokenize dictionary where the key is the punctuation and the value is the token\n",
    "    \"\"\"\n",
    "    # TODO: Implement Function\n",
    "    keys = ['.', ',', '\"', ';', '!', '?', '(',')', '--', '\\n']\n",
    "    values = ['||Period||', '||Comma||', '||Quotation_Mark||', '||Semicolon||', '||Exclamation_Mark||',\n",
    "              '||Question_Mark||', '||Left_Parentheses||', '||Right_Parentheses||', '||Dash||',\n",
    "              '||Return||']    \n",
    "     \n",
    "    \n",
    "    return dict(zip(keys, values))\n",
    "    \n",
    "\n",
    "\"\"\"\n",
    "DON'T MODIFY ANYTHING IN THIS CELL THAT IS BELOW THIS LINE\n",
    "\"\"\"\n",
    "tests.test_tokenize(token_lookup)"
   ]
  },
  {
   "cell_type": "markdown",
   "metadata": {
    "deletable": true,
    "editable": true
   },
   "source": [
    "## Preprocess all the data and save it\n",
    "Running the code cell below will preprocess all the data and save it to file."
   ]
  },
  {
   "cell_type": "code",
   "execution_count": 5,
   "metadata": {
    "collapsed": false,
    "deletable": true,
    "editable": true
   },
   "outputs": [],
   "source": [
    "\"\"\"\n",
    "DON'T MODIFY ANYTHING IN THIS CELL\n",
    "\"\"\"\n",
    "# Preprocess Training, Validation, and Testing Data\n",
    "helper.preprocess_and_save_data(data_dir, token_lookup, create_lookup_tables)"
   ]
  },
  {
   "cell_type": "markdown",
   "metadata": {
    "deletable": true,
    "editable": true
   },
   "source": [
    "# Check Point\n",
    "This is your first checkpoint. If you ever decide to come back to this notebook or have to restart the notebook, you can start from here. The preprocessed data has been saved to disk."
   ]
  },
  {
   "cell_type": "code",
   "execution_count": 6,
   "metadata": {
    "collapsed": false,
    "deletable": true,
    "editable": true
   },
   "outputs": [],
   "source": [
    "\"\"\"\n",
    "DON'T MODIFY ANYTHING IN THIS CELL\n",
    "\"\"\"\n",
    "import helper\n",
    "import numpy as np\n",
    "import problem_unittests as tests\n",
    "\n",
    "int_text, vocab_to_int, int_to_vocab, token_dict = helper.load_preprocess()"
   ]
  },
  {
   "cell_type": "markdown",
   "metadata": {
    "deletable": true,
    "editable": true
   },
   "source": [
    "## Build the Neural Network\n",
    "You'll build the components necessary to build a RNN by implementing the following functions below:\n",
    "- get_inputs\n",
    "- get_init_cell\n",
    "- get_embed\n",
    "- build_rnn\n",
    "- build_nn\n",
    "- get_batches\n",
    "\n",
    "### Check the Version of TensorFlow and Access to GPU"
   ]
  },
  {
   "cell_type": "code",
   "execution_count": 7,
   "metadata": {
    "collapsed": false,
    "deletable": true,
    "editable": true
   },
   "outputs": [
    {
     "name": "stdout",
     "output_type": "stream",
     "text": [
      "TensorFlow Version: 1.0.0\n",
      "Default GPU Device: /gpu:0\n"
     ]
    }
   ],
   "source": [
    "\"\"\"\n",
    "DON'T MODIFY ANYTHING IN THIS CELL\n",
    "\"\"\"\n",
    "from distutils.version import LooseVersion\n",
    "import warnings\n",
    "import tensorflow as tf\n",
    "\n",
    "# Check TensorFlow Version\n",
    "assert LooseVersion(tf.__version__) >= LooseVersion('1.0'), 'Please use TensorFlow version 1.0 or newer'\n",
    "print('TensorFlow Version: {}'.format(tf.__version__))\n",
    "\n",
    "# Check for a GPU\n",
    "if not tf.test.gpu_device_name():\n",
    "    warnings.warn('No GPU found. Please use a GPU to train your neural network.')\n",
    "else:\n",
    "    print('Default GPU Device: {}'.format(tf.test.gpu_device_name()))"
   ]
  },
  {
   "cell_type": "markdown",
   "metadata": {
    "deletable": true,
    "editable": true
   },
   "source": [
    "### Input\n",
    "Implement the `get_inputs()` function to create TF Placeholders for the Neural Network.  It should create the following placeholders:\n",
    "- Input text placeholder named \"input\" using the [TF Placeholder](https://www.tensorflow.org/api_docs/python/tf/placeholder) `name` parameter.\n",
    "- Targets placeholder\n",
    "- Learning Rate placeholder\n",
    "\n",
    "Return the placeholders in the following tuple `(Input, Targets, LearningRate)`"
   ]
  },
  {
   "cell_type": "code",
   "execution_count": 9,
   "metadata": {
    "collapsed": false,
    "deletable": true,
    "editable": true
   },
   "outputs": [
    {
     "name": "stdout",
     "output_type": "stream",
     "text": [
      "Tests Passed\n"
     ]
    }
   ],
   "source": [
    "def get_inputs():\n",
    "    \"\"\"\n",
    "    Create TF Placeholders for input, targets, and learning rate.\n",
    "    :return: Tuple (input, targets, learning rate)\n",
    "    \"\"\"\n",
    "    # TODO: Implement Function\n",
    "    \n",
    "    inputs = tf.placeholder(tf.int32, [None,None], name='input')\n",
    "    \n",
    "    targets = tf.placeholder(tf.int32, [None, None], name='target')\n",
    "    \n",
    "    learning_rate = tf.placeholder(tf.float32,name='learning_rate')\n",
    "    \n",
    "    \n",
    "    \n",
    "    return inputs , targets, learning_rate\n",
    "\n",
    "\n",
    "   \n",
    "\n",
    "\"\"\"\n",
    "DON'T MODIFY ANYTHING IN THIS CELL THAT IS BELOW THIS LINE\n",
    "\"\"\"\n",
    "tests.test_get_inputs(get_inputs)"
   ]
  },
  {
   "cell_type": "markdown",
   "metadata": {
    "deletable": true,
    "editable": true
   },
   "source": [
    "### Build RNN Cell and Initialize\n",
    "Stack one or more [`BasicLSTMCells`](https://www.tensorflow.org/api_docs/python/tf/contrib/rnn/BasicLSTMCell) in a [`MultiRNNCell`](https://www.tensorflow.org/api_docs/python/tf/contrib/rnn/MultiRNNCell).\n",
    "- The Rnn size should be set using `rnn_size`\n",
    "- Initalize Cell State using the MultiRNNCell's [`zero_state()`](https://www.tensorflow.org/api_docs/python/tf/contrib/rnn/MultiRNNCell#zero_state) function\n",
    "    - Apply the name \"initial_state\" to the initial state using [`tf.identity()`](https://www.tensorflow.org/api_docs/python/tf/identity)\n",
    "\n",
    "Return the cell and initial state in the following tuple `(Cell, InitialState)`"
   ]
  },
  {
   "cell_type": "code",
   "execution_count": 10,
   "metadata": {
    "collapsed": false,
    "deletable": true,
    "editable": true
   },
   "outputs": [
    {
     "name": "stdout",
     "output_type": "stream",
     "text": [
      "Tests Passed\n"
     ]
    }
   ],
   "source": [
    "def get_init_cell(batch_size, rnn_size):\n",
    "    \"\"\"\n",
    "    Create an RNN Cell and initialize it.\n",
    "    :param batch_size: Size of batches\n",
    "    :param rnn_size: Size of RNNs\n",
    "    :return: Tuple (cell, initialize state)\n",
    "    \"\"\"\n",
    "    # TODO: Implement Function\n",
    "    lstm_layers = 2\n",
    "    \n",
    "    #basic LSTM cell\n",
    "    lstm = tf.contrib.rnn.BasicLSTMCell(rnn_size)\n",
    "    \n",
    " \n",
    "    \n",
    "    # Stacking up 2 multiple LSTM layers\n",
    "    Cell = tf.contrib.rnn.MultiRNNCell([lstm] * lstm_layers)\n",
    "    \n",
    "    \n",
    "    \n",
    "    \n",
    "    \n",
    "    #initial state\n",
    "    InitialState = Cell.zero_state(batch_size, tf.float32)\n",
    "    \n",
    "    \n",
    "    InitialState = tf.identity(InitialState,name='initial_state')\n",
    "    \n",
    "    \n",
    "    \n",
    "    \n",
    "    return Cell, InitialState\n",
    "    \n",
    "\n",
    "\"\"\"\n",
    "DON'T MODIFY ANYTHING IN THIS CELL THAT IS BELOW THIS LINE\n",
    "\"\"\"\n",
    "tests.test_get_init_cell(get_init_cell)"
   ]
  },
  {
   "cell_type": "markdown",
   "metadata": {
    "deletable": true,
    "editable": true
   },
   "source": [
    "### Word Embedding\n",
    "Apply embedding to `input_data` using TensorFlow.  Return the embedded sequence."
   ]
  },
  {
   "cell_type": "code",
   "execution_count": 11,
   "metadata": {
    "collapsed": false,
    "deletable": true,
    "editable": true
   },
   "outputs": [
    {
     "name": "stdout",
     "output_type": "stream",
     "text": [
      "Tests Passed\n"
     ]
    }
   ],
   "source": [
    "def get_embed(input_data, vocab_size, embed_dim):\n",
    "    \"\"\"\n",
    "    Create embedding for <input_data>.\n",
    "    :param input_data: TF placeholder for text input.\n",
    "    :param vocab_size: Number of words in vocabulary.\n",
    "    :param embed_dim: Number of embedding dimensions\n",
    "    :return: Embedded input.\n",
    "    \"\"\"\n",
    "    # TODO: Implement Function\n",
    "    embedding = tf.Variable(tf.random_uniform((vocab_size, embed_dim), -1, 1))\n",
    "    \n",
    "    embed = tf.nn.embedding_lookup(embedding, input_data)\n",
    "    \n",
    "    return embed\n",
    "   \n",
    "\n",
    "\n",
    "\"\"\"\n",
    "DON'T MODIFY ANYTHING IN THIS CELL THAT IS BELOW THIS LINE\n",
    "\"\"\"\n",
    "tests.test_get_embed(get_embed)"
   ]
  },
  {
   "cell_type": "markdown",
   "metadata": {
    "deletable": true,
    "editable": true
   },
   "source": [
    "### Build RNN\n",
    "You created a RNN Cell in the `get_init_cell()` function.  Time to use the cell to create a RNN.\n",
    "- Build the RNN using the [`tf.nn.dynamic_rnn()`](https://www.tensorflow.org/api_docs/python/tf/nn/dynamic_rnn)\n",
    " - Apply the name \"final_state\" to the final state using [`tf.identity()`](https://www.tensorflow.org/api_docs/python/tf/identity)\n",
    "\n",
    "Return the outputs and final_state state in the following tuple `(Outputs, FinalState)` "
   ]
  },
  {
   "cell_type": "code",
   "execution_count": 12,
   "metadata": {
    "collapsed": false,
    "deletable": true,
    "editable": true
   },
   "outputs": [
    {
     "name": "stdout",
     "output_type": "stream",
     "text": [
      "Tests Passed\n"
     ]
    }
   ],
   "source": [
    "def build_rnn(cell, inputs):\n",
    "    \"\"\"\n",
    "    Create a RNN using a RNN Cell\n",
    "    :param cell: RNN Cell\n",
    "    :param inputs: Input text data\n",
    "    :return: Tuple (Outputs, Final State)\n",
    "    \"\"\"\n",
    "    # TODO: Implement Function\n",
    "    outputs, FinalState = tf.nn.dynamic_rnn(cell, inputs,\n",
    "                                             dtype=tf.float32)\n",
    "    \n",
    "    FinalState = tf.identity(FinalState,name='final_state')\n",
    "    \n",
    "    \n",
    "    return outputs, FinalState\n",
    "   \n",
    "\n",
    "\"\"\"\n",
    "DON'T MODIFY ANYTHING IN THIS CELL THAT IS BELOW THIS LINE\n",
    "\"\"\"\n",
    "tests.test_build_rnn(build_rnn)"
   ]
  },
  {
   "cell_type": "markdown",
   "metadata": {
    "deletable": true,
    "editable": true
   },
   "source": [
    "### Build the Neural Network\n",
    "Apply the functions you implemented above to:\n",
    "- Apply embedding to `input_data` using your `get_embed(input_data, vocab_size, embed_dim)` function.\n",
    "- Build RNN using `cell` and your `build_rnn(cell, inputs)` function.\n",
    "- Apply a fully connected layer with a linear activation and `vocab_size` as the number of outputs.\n",
    "\n",
    "Return the logits and final state in the following tuple (Logits, FinalState) "
   ]
  },
  {
   "cell_type": "code",
   "execution_count": 13,
   "metadata": {
    "collapsed": false,
    "deletable": true,
    "editable": true
   },
   "outputs": [
    {
     "name": "stdout",
     "output_type": "stream",
     "text": [
      "Tests Passed\n"
     ]
    }
   ],
   "source": [
    "def build_nn(cell, rnn_size, input_data, vocab_size, embed_dim):\n",
    "    \"\"\"\n",
    "    Build part of the neural network\n",
    "    :param cell: RNN cell\n",
    "    :param rnn_size: Size of rnns\n",
    "    :param input_data: Input data\n",
    "    :param vocab_size: Vocabulary size\n",
    "    :param embed_dim: Number of embedding dimensions\n",
    "    :return: Tuple (Logits, FinalState)\n",
    "    \"\"\"\n",
    "    # TODO: Implement Function\n",
    "    \n",
    "    embed = get_embed(input_data,vocab_size,300)\n",
    "    output , FinalState = build_rnn(cell, embed)\n",
    "    \n",
    "    weights = tf.truncated_normal_initializer(stddev =0.05,mean=0)\n",
    "    \n",
    "    biases = tf.zeros_initializer()\n",
    "    \n",
    "    Logits = tf.contrib.layers.fully_connected(output,vocab_size,weights_initializer=weights,biases_initializer=biases,activation_fn=None)\n",
    "    \n",
    "    return Logits, FinalState\n",
    "    \n",
    "\n",
    "\n",
    "\"\"\"\n",
    "DON'T MODIFY ANYTHING IN THIS CELL THAT IS BELOW THIS LINE\n",
    "\"\"\"\n",
    "tests.test_build_nn(build_nn)"
   ]
  },
  {
   "cell_type": "markdown",
   "metadata": {
    "deletable": true,
    "editable": true
   },
   "source": [
    "### Batches\n",
    "Implement `get_batches` to create batches of input and targets using `int_text`.  The batches should be a Numpy array with the shape `(number of batches, 2, batch size, sequence length)`. Each batch contains two elements:\n",
    "- The first element is a single batch of **input** with the shape `[batch size, sequence length]`\n",
    "- The second element is a single batch of **targets** with the shape `[batch size, sequence length]`\n",
    "\n",
    "If you can't fill the last batch with enough data, drop the last batch.\n",
    "\n",
    "For exmple, `get_batches([1, 2, 3, 4, 5, 6, 7, 8, 9, 10, 11, 12, 13, 14, 15], 2, 3)` would return a Numpy array of the following:\n",
    "```\n",
    "[\n",
    "  # First Batch\n",
    "  [\n",
    "    # Batch of Input\n",
    "    [[ 1  2  3], [ 7  8  9]],\n",
    "    # Batch of targets\n",
    "    [[ 2  3  4], [ 8  9 10]]\n",
    "  ],\n",
    " \n",
    "  # Second Batch\n",
    "  [\n",
    "    # Batch of Input\n",
    "    [[ 4  5  6], [10 11 12]],\n",
    "    # Batch of targets\n",
    "    [[ 5  6  7], [11 12 13]]\n",
    "  ]\n",
    "]\n",
    "```"
   ]
  },
  {
   "cell_type": "code",
   "execution_count": 14,
   "metadata": {
    "collapsed": false,
    "deletable": true,
    "editable": true
   },
   "outputs": [
    {
     "name": "stdout",
     "output_type": "stream",
     "text": [
      "Tests Passed\n"
     ]
    }
   ],
   "source": [
    "def get_batches(int_text, batch_size, seq_length):\n",
    "    \"\"\"\n",
    "    Return batches of input and target\n",
    "    :param int_text: Text with the words replaced by their ids\n",
    "    :param batch_size: The size of batch\n",
    "    :param seq_length: The length of sequence\n",
    "    :return: Batches as a Numpy array\n",
    "    \"\"\"\n",
    "    # TODO: Implement Function\n",
    "    n_batches = int((len(int_text)-1) / (batch_size * seq_length))\n",
    "    \n",
    "    input_data = np.array(int_text[: n_batches * batch_size * seq_length])\n",
    "    output_data = np.array(int_text[1: n_batches * batch_size * seq_length + 1])\n",
    "    \n",
    "    input_batch = np.split(input_data.reshape(batch_size, -1), n_batches, 1)\n",
    "    target_batch = np.split(output_data.reshape(batch_size, -1), n_batches, 1)\n",
    "    \n",
    "     \n",
    "    \n",
    "    return np.array(list(zip(input_batch, target_batch)))\n",
    "\n",
    "\n",
    "\"\"\"\n",
    "DON'T MODIFY ANYTHING IN THIS CELL THAT IS BELOW THIS LINE\n",
    "\"\"\"\n",
    "tests.test_get_batches(get_batches)"
   ]
  },
  {
   "cell_type": "code",
   "execution_count": 16,
   "metadata": {
    "collapsed": false
   },
   "outputs": [
    {
     "data": {
      "text/plain": [
       "array([[[[ 1,  2,  3],\n",
       "         [ 7,  8,  9]],\n",
       "\n",
       "        [[ 2,  3,  4],\n",
       "         [ 8,  9, 10]]],\n",
       "\n",
       "\n",
       "       [[[ 4,  5,  6],\n",
       "         [10, 11, 12]],\n",
       "\n",
       "        [[ 5,  6,  7],\n",
       "         [11, 12, 13]]]])"
      ]
     },
     "execution_count": 16,
     "metadata": {},
     "output_type": "execute_result"
    }
   ],
   "source": [
    "#test case to validate get_batches function logic to confirm distribution of input along the batches, ##\n",
    "#not sequentially all in the same batch ##\n",
    "\n",
    "b=[1, 2, 3, 4, 5, 6, 7, 8, 9, 10, 11, 12,13,14,15]\n",
    "\n",
    "get_batches(b,2,3)"
   ]
  },
  {
   "cell_type": "markdown",
   "metadata": {
    "deletable": true,
    "editable": true
   },
   "source": [
    "## Neural Network Training\n",
    "### Hyperparameters\n",
    "Tune the following parameters:\n",
    "\n",
    "- Set `num_epochs` to the number of epochs.\n",
    "- Set `batch_size` to the batch size.\n",
    "- Set `rnn_size` to the size of the RNNs.\n",
    "- Set `embed_dim` to the size of the embedding.\n",
    "- Set `seq_length` to the length of sequence.\n",
    "- Set `learning_rate` to the learning rate.\n",
    "- Set `show_every_n_batches` to the number of batches the neural network should print progress."
   ]
  },
  {
   "cell_type": "code",
   "execution_count": 17,
   "metadata": {
    "collapsed": true,
    "deletable": true,
    "editable": true
   },
   "outputs": [],
   "source": [
    "# Number of Epochs\n",
    "num_epochs = 100\n",
    "# Batch Size\n",
    "batch_size = 128\n",
    "# RNN Size\n",
    "rnn_size = 512\n",
    "# Embedding Dimension Size\n",
    "embed_dim = 300\n",
    "# Sequence Length\n",
    "seq_length = 15\n",
    "# Learning Rate\n",
    "learning_rate = 0.01\n",
    "# Show stats for every n number of batches\n",
    "show_every_n_batches = 11\n",
    "\n",
    "\"\"\"\n",
    "DON'T MODIFY ANYTHING IN THIS CELL THAT IS BELOW THIS LINE\n",
    "\"\"\"\n",
    "save_dir = './save'"
   ]
  },
  {
   "cell_type": "markdown",
   "metadata": {
    "deletable": true,
    "editable": true
   },
   "source": [
    "### Build the Graph\n",
    "Build the graph using the neural network you implemented."
   ]
  },
  {
   "cell_type": "code",
   "execution_count": 18,
   "metadata": {
    "collapsed": false,
    "deletable": true,
    "editable": true
   },
   "outputs": [],
   "source": [
    "\"\"\"\n",
    "DON'T MODIFY ANYTHING IN THIS CELL\n",
    "\"\"\"\n",
    "from tensorflow.contrib import seq2seq\n",
    "\n",
    "train_graph = tf.Graph()\n",
    "with train_graph.as_default():\n",
    "    vocab_size = len(int_to_vocab)\n",
    "    input_text, targets, lr = get_inputs()\n",
    "    input_data_shape = tf.shape(input_text)\n",
    "    cell, initial_state = get_init_cell(input_data_shape[0], rnn_size)\n",
    "    logits, final_state = build_nn(cell, rnn_size, input_text, vocab_size, embed_dim)\n",
    "\n",
    "    # Probabilities for generating words\n",
    "    probs = tf.nn.softmax(logits, name='probs')\n",
    "\n",
    "    # Loss function\n",
    "    cost = seq2seq.sequence_loss(\n",
    "        logits,\n",
    "        targets,\n",
    "        tf.ones([input_data_shape[0], input_data_shape[1]]))\n",
    "\n",
    "    # Optimizer\n",
    "    optimizer = tf.train.AdamOptimizer(lr)\n",
    "\n",
    "    # Gradient Clipping\n",
    "    gradients = optimizer.compute_gradients(cost)\n",
    "    capped_gradients = [(tf.clip_by_value(grad, -1., 1.), var) for grad, var in gradients]\n",
    "    train_op = optimizer.apply_gradients(capped_gradients)"
   ]
  },
  {
   "cell_type": "markdown",
   "metadata": {
    "deletable": true,
    "editable": true
   },
   "source": [
    "## Train\n",
    "Train the neural network on the preprocessed data.  If you have a hard time getting a good loss, check the [forms](https://discussions.udacity.com/) to see if anyone is having the same problem."
   ]
  },
  {
   "cell_type": "code",
   "execution_count": 19,
   "metadata": {
    "collapsed": false,
    "deletable": true,
    "editable": true
   },
   "outputs": [
    {
     "name": "stdout",
     "output_type": "stream",
     "text": [
      "Epoch   0 Batch    0/35   train_loss = 8.822\n",
      "Epoch   0 Batch   11/35   train_loss = 6.821\n",
      "Epoch   0 Batch   22/35   train_loss = 6.537\n",
      "Epoch   0 Batch   33/35   train_loss = 6.415\n",
      "Epoch   1 Batch    9/35   train_loss = 5.833\n",
      "Epoch   1 Batch   20/35   train_loss = 5.701\n",
      "Epoch   1 Batch   31/35   train_loss = 5.319\n",
      "Epoch   2 Batch    7/35   train_loss = 5.375\n",
      "Epoch   2 Batch   18/35   train_loss = 4.880\n",
      "Epoch   2 Batch   29/35   train_loss = 4.919\n",
      "Epoch   3 Batch    5/35   train_loss = 4.815\n",
      "Epoch   3 Batch   16/35   train_loss = 4.793\n",
      "Epoch   3 Batch   27/35   train_loss = 4.648\n",
      "Epoch   4 Batch    3/35   train_loss = 4.620\n",
      "Epoch   4 Batch   14/35   train_loss = 4.632\n",
      "Epoch   4 Batch   25/35   train_loss = 4.448\n",
      "Epoch   5 Batch    1/35   train_loss = 4.515\n",
      "Epoch   5 Batch   12/35   train_loss = 4.503\n",
      "Epoch   5 Batch   23/35   train_loss = 4.299\n",
      "Epoch   5 Batch   34/35   train_loss = 4.388\n",
      "Epoch   6 Batch   10/35   train_loss = 4.434\n",
      "Epoch   6 Batch   21/35   train_loss = 4.350\n",
      "Epoch   6 Batch   32/35   train_loss = 4.243\n",
      "Epoch   7 Batch    8/35   train_loss = 4.221\n",
      "Epoch   7 Batch   19/35   train_loss = 4.165\n",
      "Epoch   7 Batch   30/35   train_loss = 4.073\n",
      "Epoch   8 Batch    6/35   train_loss = 4.145\n",
      "Epoch   8 Batch   17/35   train_loss = 4.029\n",
      "Epoch   8 Batch   28/35   train_loss = 4.024\n",
      "Epoch   9 Batch    4/35   train_loss = 3.960\n",
      "Epoch   9 Batch   15/35   train_loss = 3.877\n",
      "Epoch   9 Batch   26/35   train_loss = 3.802\n",
      "Epoch  10 Batch    2/35   train_loss = 3.812\n",
      "Epoch  10 Batch   13/35   train_loss = 3.707\n",
      "Epoch  10 Batch   24/35   train_loss = 3.643\n",
      "Epoch  11 Batch    0/35   train_loss = 3.551\n",
      "Epoch  11 Batch   11/35   train_loss = 3.483\n",
      "Epoch  11 Batch   22/35   train_loss = 3.426\n",
      "Epoch  11 Batch   33/35   train_loss = 3.351\n",
      "Epoch  12 Batch    9/35   train_loss = 3.426\n",
      "Epoch  12 Batch   20/35   train_loss = 3.300\n",
      "Epoch  12 Batch   31/35   train_loss = 3.266\n",
      "Epoch  13 Batch    7/35   train_loss = 3.271\n",
      "Epoch  13 Batch   18/35   train_loss = 3.100\n",
      "Epoch  13 Batch   29/35   train_loss = 3.093\n",
      "Epoch  14 Batch    5/35   train_loss = 3.075\n",
      "Epoch  14 Batch   16/35   train_loss = 2.999\n",
      "Epoch  14 Batch   27/35   train_loss = 2.972\n",
      "Epoch  15 Batch    3/35   train_loss = 2.993\n",
      "Epoch  15 Batch   14/35   train_loss = 2.850\n",
      "Epoch  15 Batch   25/35   train_loss = 2.865\n",
      "Epoch  16 Batch    1/35   train_loss = 2.783\n",
      "Epoch  16 Batch   12/35   train_loss = 2.713\n",
      "Epoch  16 Batch   23/35   train_loss = 2.699\n",
      "Epoch  16 Batch   34/35   train_loss = 2.557\n",
      "Epoch  17 Batch   10/35   train_loss = 2.599\n",
      "Epoch  17 Batch   21/35   train_loss = 2.503\n",
      "Epoch  17 Batch   32/35   train_loss = 2.442\n",
      "Epoch  18 Batch    8/35   train_loss = 2.443\n",
      "Epoch  18 Batch   19/35   train_loss = 2.252\n",
      "Epoch  18 Batch   30/35   train_loss = 2.237\n",
      "Epoch  19 Batch    6/35   train_loss = 2.183\n",
      "Epoch  19 Batch   17/35   train_loss = 2.076\n",
      "Epoch  19 Batch   28/35   train_loss = 2.051\n",
      "Epoch  20 Batch    4/35   train_loss = 2.227\n",
      "Epoch  20 Batch   15/35   train_loss = 1.971\n",
      "Epoch  20 Batch   26/35   train_loss = 1.934\n",
      "Epoch  21 Batch    2/35   train_loss = 1.798\n",
      "Epoch  21 Batch   13/35   train_loss = 1.906\n",
      "Epoch  21 Batch   24/35   train_loss = 1.777\n",
      "Epoch  22 Batch    0/35   train_loss = 1.815\n",
      "Epoch  22 Batch   11/35   train_loss = 1.708\n",
      "Epoch  22 Batch   22/35   train_loss = 1.701\n",
      "Epoch  22 Batch   33/35   train_loss = 1.529\n",
      "Epoch  23 Batch    9/35   train_loss = 1.609\n",
      "Epoch  23 Batch   20/35   train_loss = 1.446\n",
      "Epoch  23 Batch   31/35   train_loss = 1.531\n",
      "Epoch  24 Batch    7/35   train_loss = 1.467\n",
      "Epoch  24 Batch   18/35   train_loss = 1.479\n",
      "Epoch  24 Batch   29/35   train_loss = 1.341\n",
      "Epoch  25 Batch    5/35   train_loss = 1.338\n",
      "Epoch  25 Batch   16/35   train_loss = 1.349\n",
      "Epoch  25 Batch   27/35   train_loss = 1.236\n",
      "Epoch  26 Batch    3/35   train_loss = 1.257\n",
      "Epoch  26 Batch   14/35   train_loss = 1.194\n",
      "Epoch  26 Batch   25/35   train_loss = 1.211\n",
      "Epoch  27 Batch    1/35   train_loss = 1.190\n",
      "Epoch  27 Batch   12/35   train_loss = 1.156\n",
      "Epoch  27 Batch   23/35   train_loss = 1.048\n",
      "Epoch  27 Batch   34/35   train_loss = 1.032\n",
      "Epoch  28 Batch   10/35   train_loss = 1.035\n",
      "Epoch  28 Batch   21/35   train_loss = 1.017\n",
      "Epoch  28 Batch   32/35   train_loss = 0.996\n",
      "Epoch  29 Batch    8/35   train_loss = 1.004\n",
      "Epoch  29 Batch   19/35   train_loss = 0.913\n",
      "Epoch  29 Batch   30/35   train_loss = 0.977\n",
      "Epoch  30 Batch    6/35   train_loss = 0.845\n",
      "Epoch  30 Batch   17/35   train_loss = 0.832\n",
      "Epoch  30 Batch   28/35   train_loss = 0.822\n",
      "Epoch  31 Batch    4/35   train_loss = 0.879\n",
      "Epoch  31 Batch   15/35   train_loss = 0.793\n",
      "Epoch  31 Batch   26/35   train_loss = 0.774\n",
      "Epoch  32 Batch    2/35   train_loss = 0.676\n",
      "Epoch  32 Batch   13/35   train_loss = 0.732\n",
      "Epoch  32 Batch   24/35   train_loss = 0.679\n",
      "Epoch  33 Batch    0/35   train_loss = 0.722\n",
      "Epoch  33 Batch   11/35   train_loss = 0.627\n",
      "Epoch  33 Batch   22/35   train_loss = 0.638\n",
      "Epoch  33 Batch   33/35   train_loss = 0.602\n",
      "Epoch  34 Batch    9/35   train_loss = 0.591\n",
      "Epoch  34 Batch   20/35   train_loss = 0.547\n",
      "Epoch  34 Batch   31/35   train_loss = 0.617\n",
      "Epoch  35 Batch    7/35   train_loss = 0.578\n",
      "Epoch  35 Batch   18/35   train_loss = 0.612\n",
      "Epoch  35 Batch   29/35   train_loss = 0.555\n",
      "Epoch  36 Batch    5/35   train_loss = 0.538\n",
      "Epoch  36 Batch   16/35   train_loss = 0.534\n",
      "Epoch  36 Batch   27/35   train_loss = 0.489\n",
      "Epoch  37 Batch    3/35   train_loss = 0.488\n",
      "Epoch  37 Batch   14/35   train_loss = 0.443\n",
      "Epoch  37 Batch   25/35   train_loss = 0.457\n",
      "Epoch  38 Batch    1/35   train_loss = 0.484\n",
      "Epoch  38 Batch   12/35   train_loss = 0.473\n",
      "Epoch  38 Batch   23/35   train_loss = 0.433\n",
      "Epoch  38 Batch   34/35   train_loss = 0.417\n",
      "Epoch  39 Batch   10/35   train_loss = 0.435\n",
      "Epoch  39 Batch   21/35   train_loss = 0.403\n",
      "Epoch  39 Batch   32/35   train_loss = 0.401\n",
      "Epoch  40 Batch    8/35   train_loss = 0.403\n",
      "Epoch  40 Batch   19/35   train_loss = 0.372\n",
      "Epoch  40 Batch   30/35   train_loss = 0.374\n",
      "Epoch  41 Batch    6/35   train_loss = 0.338\n",
      "Epoch  41 Batch   17/35   train_loss = 0.331\n",
      "Epoch  41 Batch   28/35   train_loss = 0.313\n",
      "Epoch  42 Batch    4/35   train_loss = 0.368\n",
      "Epoch  42 Batch   15/35   train_loss = 0.341\n",
      "Epoch  42 Batch   26/35   train_loss = 0.326\n",
      "Epoch  43 Batch    2/35   train_loss = 0.273\n",
      "Epoch  43 Batch   13/35   train_loss = 0.307\n",
      "Epoch  43 Batch   24/35   train_loss = 0.293\n",
      "Epoch  44 Batch    0/35   train_loss = 0.316\n",
      "Epoch  44 Batch   11/35   train_loss = 0.263\n",
      "Epoch  44 Batch   22/35   train_loss = 0.289\n",
      "Epoch  44 Batch   33/35   train_loss = 0.265\n",
      "Epoch  45 Batch    9/35   train_loss = 0.252\n",
      "Epoch  45 Batch   20/35   train_loss = 0.243\n",
      "Epoch  45 Batch   31/35   train_loss = 0.266\n",
      "Epoch  46 Batch    7/35   train_loss = 0.271\n",
      "Epoch  46 Batch   18/35   train_loss = 0.281\n",
      "Epoch  46 Batch   29/35   train_loss = 0.253\n",
      "Epoch  47 Batch    5/35   train_loss = 0.256\n",
      "Epoch  47 Batch   16/35   train_loss = 0.246\n",
      "Epoch  47 Batch   27/35   train_loss = 0.234\n",
      "Epoch  48 Batch    3/35   train_loss = 0.242\n",
      "Epoch  48 Batch   14/35   train_loss = 0.228\n",
      "Epoch  48 Batch   25/35   train_loss = 0.235\n",
      "Epoch  49 Batch    1/35   train_loss = 0.234\n",
      "Epoch  49 Batch   12/35   train_loss = 0.254\n",
      "Epoch  49 Batch   23/35   train_loss = 0.246\n",
      "Epoch  49 Batch   34/35   train_loss = 0.218\n",
      "Epoch  50 Batch   10/35   train_loss = 0.241\n",
      "Epoch  50 Batch   21/35   train_loss = 0.247\n",
      "Epoch  50 Batch   32/35   train_loss = 0.240\n",
      "Epoch  51 Batch    8/35   train_loss = 0.252\n",
      "Epoch  51 Batch   19/35   train_loss = 0.223\n",
      "Epoch  51 Batch   30/35   train_loss = 0.232\n",
      "Epoch  52 Batch    6/35   train_loss = 0.222\n",
      "Epoch  52 Batch   17/35   train_loss = 0.241\n",
      "Epoch  52 Batch   28/35   train_loss = 0.205\n",
      "Epoch  53 Batch    4/35   train_loss = 0.243\n",
      "Epoch  53 Batch   15/35   train_loss = 0.245\n",
      "Epoch  53 Batch   26/35   train_loss = 0.231\n",
      "Epoch  54 Batch    2/35   train_loss = 0.204\n",
      "Epoch  54 Batch   13/35   train_loss = 0.230\n",
      "Epoch  54 Batch   24/35   train_loss = 0.227\n",
      "Epoch  55 Batch    0/35   train_loss = 0.237\n",
      "Epoch  55 Batch   11/35   train_loss = 0.204\n",
      "Epoch  55 Batch   22/35   train_loss = 0.235\n",
      "Epoch  55 Batch   33/35   train_loss = 0.222\n",
      "Epoch  56 Batch    9/35   train_loss = 0.218\n",
      "Epoch  56 Batch   20/35   train_loss = 0.214\n",
      "Epoch  56 Batch   31/35   train_loss = 0.235\n",
      "Epoch  57 Batch    7/35   train_loss = 0.242\n",
      "Epoch  57 Batch   18/35   train_loss = 0.249\n",
      "Epoch  57 Batch   29/35   train_loss = 0.230\n",
      "Epoch  58 Batch    5/35   train_loss = 0.234\n",
      "Epoch  58 Batch   16/35   train_loss = 0.229\n",
      "Epoch  58 Batch   27/35   train_loss = 0.219\n",
      "Epoch  59 Batch    3/35   train_loss = 0.225\n",
      "Epoch  59 Batch   14/35   train_loss = 0.218\n",
      "Epoch  59 Batch   25/35   train_loss = 0.219\n",
      "Epoch  60 Batch    1/35   train_loss = 0.223\n",
      "Epoch  60 Batch   12/35   train_loss = 0.239\n",
      "Epoch  60 Batch   23/35   train_loss = 0.230\n",
      "Epoch  60 Batch   34/35   train_loss = 0.210\n",
      "Epoch  61 Batch   10/35   train_loss = 0.231\n",
      "Epoch  61 Batch   21/35   train_loss = 0.235\n",
      "Epoch  61 Batch   32/35   train_loss = 0.231\n",
      "Epoch  62 Batch    8/35   train_loss = 0.243\n",
      "Epoch  62 Batch   19/35   train_loss = 0.214\n",
      "Epoch  62 Batch   30/35   train_loss = 0.226\n",
      "Epoch  63 Batch    6/35   train_loss = 0.216\n",
      "Epoch  63 Batch   17/35   train_loss = 0.234\n",
      "Epoch  63 Batch   28/35   train_loss = 0.201\n",
      "Epoch  64 Batch    4/35   train_loss = 0.241\n",
      "Epoch  64 Batch   15/35   train_loss = 0.240\n",
      "Epoch  64 Batch   26/35   train_loss = 0.226\n",
      "Epoch  65 Batch    2/35   train_loss = 0.201\n",
      "Epoch  65 Batch   13/35   train_loss = 0.229\n",
      "Epoch  65 Batch   24/35   train_loss = 0.223\n",
      "Epoch  66 Batch    0/35   train_loss = 0.233\n",
      "Epoch  66 Batch   11/35   train_loss = 0.201\n",
      "Epoch  66 Batch   22/35   train_loss = 0.234\n",
      "Epoch  66 Batch   33/35   train_loss = 0.218\n",
      "Epoch  67 Batch    9/35   train_loss = 0.216\n",
      "Epoch  67 Batch   20/35   train_loss = 0.210\n",
      "Epoch  67 Batch   31/35   train_loss = 0.233\n",
      "Epoch  68 Batch    7/35   train_loss = 0.236\n",
      "Epoch  68 Batch   18/35   train_loss = 0.246\n",
      "Epoch  68 Batch   29/35   train_loss = 0.228\n",
      "Epoch  69 Batch    5/35   train_loss = 0.231\n",
      "Epoch  69 Batch   16/35   train_loss = 0.226\n",
      "Epoch  69 Batch   27/35   train_loss = 0.214\n",
      "Epoch  70 Batch    3/35   train_loss = 0.223\n",
      "Epoch  70 Batch   14/35   train_loss = 0.215\n",
      "Epoch  70 Batch   25/35   train_loss = 0.219\n",
      "Epoch  71 Batch    1/35   train_loss = 0.220\n",
      "Epoch  71 Batch   12/35   train_loss = 0.236\n",
      "Epoch  71 Batch   23/35   train_loss = 0.232\n",
      "Epoch  71 Batch   34/35   train_loss = 0.207\n",
      "Epoch  72 Batch   10/35   train_loss = 0.230\n",
      "Epoch  72 Batch   21/35   train_loss = 0.234\n",
      "Epoch  72 Batch   32/35   train_loss = 0.229\n",
      "Epoch  73 Batch    8/35   train_loss = 0.241\n",
      "Epoch  73 Batch   19/35   train_loss = 0.216\n",
      "Epoch  73 Batch   30/35   train_loss = 0.224\n",
      "Epoch  74 Batch    6/35   train_loss = 0.213\n",
      "Epoch  74 Batch   17/35   train_loss = 0.234\n",
      "Epoch  74 Batch   28/35   train_loss = 0.198\n",
      "Epoch  75 Batch    4/35   train_loss = 0.235\n",
      "Epoch  75 Batch   15/35   train_loss = 0.238\n",
      "Epoch  75 Batch   26/35   train_loss = 0.226\n",
      "Epoch  76 Batch    2/35   train_loss = 0.199\n",
      "Epoch  76 Batch   13/35   train_loss = 0.228\n",
      "Epoch  76 Batch   24/35   train_loss = 0.221\n",
      "Epoch  77 Batch    0/35   train_loss = 0.231\n",
      "Epoch  77 Batch   11/35   train_loss = 0.199\n",
      "Epoch  77 Batch   22/35   train_loss = 0.231\n",
      "Epoch  77 Batch   33/35   train_loss = 0.219\n",
      "Epoch  78 Batch    9/35   train_loss = 0.215\n",
      "Epoch  78 Batch   20/35   train_loss = 0.210\n",
      "Epoch  78 Batch   31/35   train_loss = 0.232\n",
      "Epoch  79 Batch    7/35   train_loss = 0.238\n",
      "Epoch  79 Batch   18/35   train_loss = 0.246\n",
      "Epoch  79 Batch   29/35   train_loss = 0.227\n",
      "Epoch  80 Batch    5/35   train_loss = 0.231\n",
      "Epoch  80 Batch   16/35   train_loss = 0.225\n",
      "Epoch  80 Batch   27/35   train_loss = 0.215\n",
      "Epoch  81 Batch    3/35   train_loss = 0.222\n",
      "Epoch  81 Batch   14/35   train_loss = 0.215\n",
      "Epoch  81 Batch   25/35   train_loss = 0.217\n",
      "Epoch  82 Batch    1/35   train_loss = 0.220\n",
      "Epoch  82 Batch   12/35   train_loss = 0.236\n",
      "Epoch  82 Batch   23/35   train_loss = 0.228\n",
      "Epoch  82 Batch   34/35   train_loss = 0.207\n",
      "Epoch  83 Batch   10/35   train_loss = 0.229\n",
      "Epoch  83 Batch   21/35   train_loss = 0.232\n",
      "Epoch  83 Batch   32/35   train_loss = 0.228\n",
      "Epoch  84 Batch    8/35   train_loss = 0.241\n",
      "Epoch  84 Batch   19/35   train_loss = 0.212\n",
      "Epoch  84 Batch   30/35   train_loss = 0.225\n",
      "Epoch  85 Batch    6/35   train_loss = 0.214\n",
      "Epoch  85 Batch   17/35   train_loss = 0.232\n",
      "Epoch  85 Batch   28/35   train_loss = 0.199\n",
      "Epoch  86 Batch    4/35   train_loss = 0.238\n",
      "Epoch  86 Batch   15/35   train_loss = 0.237\n",
      "Epoch  86 Batch   26/35   train_loss = 0.225\n",
      "Epoch  87 Batch    2/35   train_loss = 0.200\n",
      "Epoch  87 Batch   13/35   train_loss = 0.227\n",
      "Epoch  87 Batch   24/35   train_loss = 0.221\n",
      "Epoch  88 Batch    0/35   train_loss = 0.230\n",
      "Epoch  88 Batch   11/35   train_loss = 0.200\n",
      "Epoch  88 Batch   22/35   train_loss = 0.233\n",
      "Epoch  88 Batch   33/35   train_loss = 0.217\n",
      "Epoch  89 Batch    9/35   train_loss = 0.216\n",
      "Epoch  89 Batch   20/35   train_loss = 0.209\n",
      "Epoch  89 Batch   31/35   train_loss = 0.233\n",
      "Epoch  90 Batch    7/35   train_loss = 0.236\n",
      "Epoch  90 Batch   18/35   train_loss = 0.246\n",
      "Epoch  90 Batch   29/35   train_loss = 0.227\n",
      "Epoch  91 Batch    5/35   train_loss = 0.231\n",
      "Epoch  91 Batch   16/35   train_loss = 0.225\n",
      "Epoch  91 Batch   27/35   train_loss = 0.213\n",
      "Epoch  92 Batch    3/35   train_loss = 0.222\n",
      "Epoch  92 Batch   14/35   train_loss = 0.214\n",
      "Epoch  92 Batch   25/35   train_loss = 0.218\n",
      "Epoch  93 Batch    1/35   train_loss = 0.219\n",
      "Epoch  93 Batch   12/35   train_loss = 0.235\n",
      "Epoch  93 Batch   23/35   train_loss = 0.231\n",
      "Epoch  93 Batch   34/35   train_loss = 0.206\n",
      "Epoch  94 Batch   10/35   train_loss = 0.229\n",
      "Epoch  94 Batch   21/35   train_loss = 0.234\n",
      "Epoch  94 Batch   32/35   train_loss = 0.229\n",
      "Epoch  95 Batch    8/35   train_loss = 0.241\n",
      "Epoch  95 Batch   19/35   train_loss = 0.216\n",
      "Epoch  95 Batch   30/35   train_loss = 0.224\n",
      "Epoch  96 Batch    6/35   train_loss = 0.213\n",
      "Epoch  96 Batch   17/35   train_loss = 0.234\n",
      "Epoch  96 Batch   28/35   train_loss = 0.197\n",
      "Epoch  97 Batch    4/35   train_loss = 0.234\n",
      "Epoch  97 Batch   15/35   train_loss = 0.236\n",
      "Epoch  97 Batch   26/35   train_loss = 0.226\n",
      "Epoch  98 Batch    2/35   train_loss = 0.199\n",
      "Epoch  98 Batch   13/35   train_loss = 0.227\n",
      "Epoch  98 Batch   24/35   train_loss = 0.221\n",
      "Epoch  99 Batch    0/35   train_loss = 0.229\n",
      "Epoch  99 Batch   11/35   train_loss = 0.199\n",
      "Epoch  99 Batch   22/35   train_loss = 0.231\n",
      "Epoch  99 Batch   33/35   train_loss = 0.219\n",
      "Model Trained and Saved\n"
     ]
    }
   ],
   "source": [
    "\"\"\"\n",
    "DON'T MODIFY ANYTHING IN THIS CELL\n",
    "\"\"\"\n",
    "batches = get_batches(int_text, batch_size, seq_length)\n",
    "\n",
    "with tf.Session(graph=train_graph) as sess:\n",
    "    sess.run(tf.global_variables_initializer())\n",
    "\n",
    "    for epoch_i in range(num_epochs):\n",
    "        state = sess.run(initial_state, {input_text: batches[0][0]})\n",
    "\n",
    "        for batch_i, (x, y) in enumerate(batches):\n",
    "            feed = {\n",
    "                input_text: x,\n",
    "                targets: y,\n",
    "                initial_state: state,\n",
    "                lr: learning_rate}\n",
    "            train_loss, state, _ = sess.run([cost, final_state, train_op], feed)\n",
    "\n",
    "            # Show every <show_every_n_batches> batches\n",
    "            if (epoch_i * len(batches) + batch_i) % show_every_n_batches == 0:\n",
    "                print('Epoch {:>3} Batch {:>4}/{}   train_loss = {:.3f}'.format(\n",
    "                    epoch_i,\n",
    "                    batch_i,\n",
    "                    len(batches),\n",
    "                    train_loss))\n",
    "\n",
    "    # Save Model\n",
    "    saver = tf.train.Saver()\n",
    "    saver.save(sess, save_dir)\n",
    "    print('Model Trained and Saved')"
   ]
  },
  {
   "cell_type": "markdown",
   "metadata": {
    "deletable": true,
    "editable": true
   },
   "source": [
    "## Save Parameters\n",
    "Save `seq_length` and `save_dir` for generating a new TV script."
   ]
  },
  {
   "cell_type": "code",
   "execution_count": 20,
   "metadata": {
    "collapsed": false,
    "deletable": true,
    "editable": true
   },
   "outputs": [],
   "source": [
    "\"\"\"\n",
    "DON'T MODIFY ANYTHING IN THIS CELL\n",
    "\"\"\"\n",
    "# Save parameters for checkpoint\n",
    "helper.save_params((seq_length, save_dir))"
   ]
  },
  {
   "cell_type": "markdown",
   "metadata": {
    "deletable": true,
    "editable": true
   },
   "source": [
    "# Checkpoint"
   ]
  },
  {
   "cell_type": "code",
   "execution_count": 21,
   "metadata": {
    "collapsed": false,
    "deletable": true,
    "editable": true
   },
   "outputs": [],
   "source": [
    "\"\"\"\n",
    "DON'T MODIFY ANYTHING IN THIS CELL\n",
    "\"\"\"\n",
    "import tensorflow as tf\n",
    "import numpy as np\n",
    "import helper\n",
    "import problem_unittests as tests\n",
    "\n",
    "_, vocab_to_int, int_to_vocab, token_dict = helper.load_preprocess()\n",
    "seq_length, load_dir = helper.load_params()"
   ]
  },
  {
   "cell_type": "markdown",
   "metadata": {
    "deletable": true,
    "editable": true
   },
   "source": [
    "## Implement Generate Functions\n",
    "### Get Tensors\n",
    "Get tensors from `loaded_graph` using the function [`get_tensor_by_name()`](https://www.tensorflow.org/api_docs/python/tf/Graph#get_tensor_by_name).  Get the tensors using the following names:\n",
    "- \"input:0\"\n",
    "- \"initial_state:0\"\n",
    "- \"final_state:0\"\n",
    "- \"probs:0\"\n",
    "\n",
    "Return the tensors in the following tuple `(InputTensor, InitialStateTensor, FinalStateTensor, ProbsTensor)` "
   ]
  },
  {
   "cell_type": "code",
   "execution_count": 22,
   "metadata": {
    "collapsed": false,
    "deletable": true,
    "editable": true
   },
   "outputs": [
    {
     "name": "stdout",
     "output_type": "stream",
     "text": [
      "Tests Passed\n"
     ]
    }
   ],
   "source": [
    "def get_tensors(loaded_graph):\n",
    "    \"\"\"\n",
    "    Get input, initial state, final state, and probabilities tensor from <loaded_graph>\n",
    "    :param loaded_graph: TensorFlow graph loaded from file\n",
    "    :return: Tuple (InputTensor, InitialStateTensor, FinalStateTensor, ProbsTensor)\n",
    "    \"\"\"\n",
    "    # TODO: Implement Function\n",
    "    \n",
    "    InputTensor = loaded_graph.get_tensor_by_name(\"input:0\")\n",
    "    \n",
    "    InitialStateTensor = loaded_graph.get_tensor_by_name(\"initial_state:0\")\n",
    "    \n",
    "    FinalStateTensor = loaded_graph.get_tensor_by_name(\"final_state:0\")\n",
    "    \n",
    "    ProbsTensor = loaded_graph.get_tensor_by_name(\"probs:0\")\n",
    "    \n",
    "    \n",
    "    return InputTensor, InitialStateTensor, FinalStateTensor, ProbsTensor\n",
    "\n",
    "    \n",
    "\n",
    "\n",
    "\"\"\"\n",
    "DON'T MODIFY ANYTHING IN THIS CELL THAT IS BELOW THIS LINE\n",
    "\"\"\"\n",
    "tests.test_get_tensors(get_tensors)"
   ]
  },
  {
   "cell_type": "markdown",
   "metadata": {
    "deletable": true,
    "editable": true
   },
   "source": [
    "### Choose Word\n",
    "Implement the `pick_word()` function to select the next word using `probabilities`."
   ]
  },
  {
   "cell_type": "code",
   "execution_count": 23,
   "metadata": {
    "collapsed": false,
    "deletable": true,
    "editable": true
   },
   "outputs": [
    {
     "name": "stdout",
     "output_type": "stream",
     "text": [
      "Tests Passed\n"
     ]
    }
   ],
   "source": [
    "def pick_word(probabilities, int_to_vocab):\n",
    "    \"\"\"\n",
    "    Pick the next word in the generated text\n",
    "    :param probabilities: Probabilites of the next word\n",
    "    :param int_to_vocab: Dictionary of word ids as the keys and words as the values\n",
    "    :return: String of the predicted word\n",
    "    \"\"\"\n",
    "    # TODO: Implement Function\n",
    "    #implemented pick_word functionaility using np.random.choice instead of np.random.randint function as suggested \n",
    "        \n",
    "    pick_next = np.random.choice(len(int_to_vocab), 1, p = probabilities)[0]\n",
    "      \n",
    "    return int_to_vocab[pick_next]\n",
    "  \n",
    "\n",
    "\"\"\"\n",
    "DON'T MODIFY ANYTHING IN THIS CELL THAT IS BELOW THIS LINE\n",
    "\"\"\"\n",
    "tests.test_pick_word(pick_word)"
   ]
  },
  {
   "cell_type": "markdown",
   "metadata": {
    "deletable": true,
    "editable": true
   },
   "source": [
    "## Generate TV Script\n",
    "This will generate the TV script for you.  Set `gen_length` to the length of TV script you want to generate."
   ]
  },
  {
   "cell_type": "code",
   "execution_count": 25,
   "metadata": {
    "collapsed": false,
    "deletable": true,
    "editable": true
   },
   "outputs": [
    {
     "name": "stdout",
     "output_type": "stream",
     "text": [
      "moe_szyslak:(hopeful) you know, they say that the love of a good woman.(then) except about!\n",
      "homer_simpson:(to thought) yeah, you're closing...\n",
      "chief_wiggum:(singing) hello...\n",
      "chief_wiggum:(singing) hello...\n",
      "apu_nahasapeemapetilon:(sings) my-y-y-y-y-y adeleine.\n",
      "barney_gumble:(realizing) hey, hey! you is your be sharps.\n",
      "c. _montgomery_burns:(exasperated) is that you have been people. might family works. and buy something that all the crunch, he-- he's a big disappointment, his day or too much.(to moe) you're just saying that won't be so much.\n",
      "moe_szyslak: oh, it's just as one of us.\n",
      "is so, if you want to feed the pretty game gone. going out of me... who had a\" help gum!\n",
      "moe_szyslak:(serious) moe, moe. what do you understand how finance works?(he pulls out a huge sledge-hammer) i am a little coffee'll be a justice age seven 'cause.\n",
      "homer_simpson: hey, wait a minute. i'm... this is the part of my eggs by me. but i was not allowed for some shape and now...\n",
      "moe_szyslak: yeah, he don't see...\n",
      "homer_simpson: marge... then i put this of the steam engine.\n",
      "moe_szyslak:(incredulous) whaddaya been sippin' cuckoo juice? i've got to know so we can be right for the best barney\n",
      "--\n",
      "moe_szyslak: but we can even give a speech tomorrow on, but uh, but what we're really bring it.\n",
      "lenny_leonard:(terrified noise) semi-imported.(guzzles the game)\n",
      "hank_williams_jr.\n",
      "lenny_leonard: hey, my people hurts. when i go to get one seat?\n",
      "lenny_leonard: to...\n",
      "homer_simpson: not that army, the\" saint elmo's perfect me door. i'm choosin' gonna play jerry\" source of the sport, a\" flaming, and i'll show ya!\"\n",
      "homer_simpson: guys, i put this guy from the old time.\n",
      "moe_szyslak: hey, what are you gonna do?\n",
      "\n",
      "\n",
      "homer_simpson:(finishing beer) i don't want that?\n",
      "homer_simpson: oh, my dear girl, who, uh, we were out of my drink.\n",
      "moe_szyslak: oh, this is real money!\n",
      "moe_szyslak:(drunk, in unison)\n",
      "chief_wiggum:(annoyed) you said, you little puke. up... marge won't have to hear of gettin' rid of the hospital.\n",
      "moe_szyslak: ooh, sorry.\n",
      "homer_simpson: because when i so much.\n",
      "\n"
     ]
    }
   ],
   "source": [
    "gen_length = 500\n",
    "# homer_simpson, moe_szyslak, or Barney_Gumble\n",
    "prime_word = 'moe_szyslak'\n",
    "\n",
    "\"\"\"\n",
    "DON'T MODIFY ANYTHING IN THIS CELL THAT IS BELOW THIS LINE\n",
    "\"\"\"\n",
    "loaded_graph = tf.Graph()\n",
    "with tf.Session(graph=loaded_graph) as sess:\n",
    "    # Load saved model\n",
    "    loader = tf.train.import_meta_graph(load_dir + '.meta')\n",
    "    loader.restore(sess, load_dir)\n",
    "\n",
    "    # Get Tensors from loaded model\n",
    "    input_text, initial_state, final_state, probs = get_tensors(loaded_graph)\n",
    "\n",
    "    # Sentences generation setup\n",
    "    gen_sentences = [prime_word + ':']\n",
    "    prev_state = sess.run(initial_state, {input_text: np.array([[1]])})\n",
    "\n",
    "    # Generate sentences\n",
    "    for n in range(gen_length):\n",
    "        # Dynamic Input\n",
    "        dyn_input = [[vocab_to_int[word] for word in gen_sentences[-seq_length:]]]\n",
    "        dyn_seq_length = len(dyn_input[0])\n",
    "\n",
    "        # Get Prediction\n",
    "        probabilities, prev_state = sess.run(\n",
    "            [probs, final_state],\n",
    "            {input_text: dyn_input, initial_state: prev_state})\n",
    "        \n",
    "        pred_word = pick_word(probabilities[dyn_seq_length-1], int_to_vocab)\n",
    "\n",
    "        gen_sentences.append(pred_word)\n",
    "    \n",
    "    # Remove tokens\n",
    "    tv_script = ' '.join(gen_sentences)\n",
    "    for key, token in token_dict.items():\n",
    "        ending = ' ' if key in ['\\n', '(', '\"'] else ''\n",
    "        tv_script = tv_script.replace(' ' + token.lower(), key)\n",
    "    tv_script = tv_script.replace('\\n ', '\\n')\n",
    "    tv_script = tv_script.replace('( ', '(')\n",
    "        \n",
    "    print(tv_script)"
   ]
  },
  {
   "cell_type": "markdown",
   "metadata": {
    "deletable": true,
    "editable": true
   },
   "source": [
    "# The TV Script is Nonsensical\n",
    "It's ok if the TV script doesn't make any sense.  We trained on less than a megabyte of text.  In order to get good results, you'll have to use a smaller vocabulary or get more data.  Luckly there's more data!  As we mentioned in the begging of this project, this is a subset of [another dataset](https://www.kaggle.com/wcukierski/the-simpsons-by-the-data).  We didn't have you train on all the data, because that would take too long.  However, you are free to train your neural network on all the data.  After you complete the project, of course.\n",
    "# Submitting This Project\n",
    "When submitting this project, make sure to run all the cells before saving the notebook. Save the notebook file as \"dlnd_tv_script_generation.ipynb\" and save it as a HTML file under \"File\" -> \"Download as\". Include the \"helper.py\" and \"problem_unittests.py\" files in your submission."
   ]
  }
 ],
 "metadata": {
  "kernelspec": {
   "display_name": "Python 3",
   "language": "python",
   "name": "python3"
  },
  "language_info": {
   "codemirror_mode": {
    "name": "ipython",
    "version": 3
   },
   "file_extension": ".py",
   "mimetype": "text/x-python",
   "name": "python",
   "nbconvert_exporter": "python",
   "pygments_lexer": "ipython3",
   "version": "3.5.2"
  },
  "widgets": {
   "state": {},
   "version": "1.1.2"
  }
 },
 "nbformat": 4,
 "nbformat_minor": 0
}
