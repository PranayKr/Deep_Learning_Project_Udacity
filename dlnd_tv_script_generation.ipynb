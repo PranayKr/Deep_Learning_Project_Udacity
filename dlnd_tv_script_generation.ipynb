{
 "cells": [
  {
   "cell_type": "markdown",
   "metadata": {
    "deletable": true,
    "editable": true
   },
   "source": [
    "# TV Script Generation\n",
    "In this project, you'll generate your own [Simpsons](https://en.wikipedia.org/wiki/The_Simpsons) TV scripts using RNNs.  You'll be using part of the [Simpsons dataset](https://www.kaggle.com/wcukierski/the-simpsons-by-the-data) of scripts from 27 seasons.  The Neural Network you'll build will generate a new TV script for a scene at [Moe's Tavern](https://simpsonswiki.com/wiki/Moe's_Tavern).\n",
    "## Get the Data\n",
    "The data is already provided for you.  You'll be using a subset of the original dataset.  It consists of only the scenes in Moe's Tavern.  This doesn't include other versions of the tavern, like \"Moe's Cavern\", \"Flaming Moe's\", \"Uncle Moe's Family Feed-Bag\", etc.."
   ]
  },
  {
   "cell_type": "code",
   "execution_count": 1,
   "metadata": {
    "collapsed": false,
    "deletable": true,
    "editable": true
   },
   "outputs": [],
   "source": [
    "\"\"\"\n",
    "DON'T MODIFY ANYTHING IN THIS CELL\n",
    "\"\"\"\n",
    "import helper\n",
    "\n",
    "data_dir = './data/simpsons/moes_tavern_lines.txt'\n",
    "text = helper.load_data(data_dir)\n",
    "# Ignore notice, since we don't use it for analysing the data\n",
    "text = text[81:]"
   ]
  },
  {
   "cell_type": "markdown",
   "metadata": {
    "deletable": true,
    "editable": true
   },
   "source": [
    "## Explore the Data\n",
    "Play around with `view_sentence_range` to view different parts of the data."
   ]
  },
  {
   "cell_type": "code",
   "execution_count": 2,
   "metadata": {
    "collapsed": false,
    "deletable": true,
    "editable": true
   },
   "outputs": [
    {
     "name": "stdout",
     "output_type": "stream",
     "text": [
      "Dataset Stats\n",
      "Roughly the number of unique words: 11492\n",
      "Number of scenes: 262\n",
      "Average number of sentences in each scene: 15.251908396946565\n",
      "Number of lines: 4258\n",
      "Average number of words in each line: 11.50164396430249\n",
      "\n",
      "The sentences 60 to 200:\n",
      "Moe_Szyslak: (TO LITTLE MAN) Come on, Jer. Open up. Be a pal. Remember when I pulled you and your wife out of that burning car?\n",
      "Little_Man: (GRUDGINGLY) Okay. Okay. But now we're even. (TO HOMER) So what does your daughter need?\n",
      "Homer_Simpson: (SMOOTHLY) I'll have you know, I wrote it down.\n",
      "Homer_Simpson: Number Four and a half -- Stupid gum!\n",
      "Homer_Simpson: Number Four and a Half reed! Whoo hoo!\n",
      "Little_Man: Uh-huh. And what instrument does she play?\n",
      "Homer_Simpson: (SUNK) I dunno.\n",
      "\n",
      "\n",
      "Moe_Szyslak: (TO PATRONS) Figure of speech.\n",
      "Moe_Szyslak: Hiya, Homer. (SIGHS)\n",
      "Homer_Simpson: What's the matter, Moe?\n",
      "Moe_Szyslak: Ah, business is slow. People today are healthier and drinking less. You know, if it wasn't for the Junior High school next door no one would even use the cigarette machine.\n",
      "Homer_Simpson: (MOUTH FULL) Yeah, things are tough all over.\n",
      "Moe_Szyslak: Increased job satisfaction and family togetherness are poison for a purveyor of mind-numbing intoxicants like myself.\n",
      "Homer_Simpson: Could I get a beer?\n",
      "Moe_Szyslak: Uh, yeah, sure.\n",
      "Moe_Szyslak: Oh sorry, I forgot we're out of beer.\n",
      "Moe_Szyslak: Yeah, I know, I got behind on my beer payments. The distributor cut me off and I spent my last ten grand on the \"Love Tester\".\n",
      "Moe_Szyslak: You're too late, Homer. Barney sucked it dry. Cut his gums up pretty bad.\n",
      "Moe_Szyslak: Take it easy, Homer. I learned how to make other drinks at Bartender's School.\n",
      "Moe_Szyslak: (UNFAMILIAR) Gin and... tonic? Do they mix?\n",
      "Homer_Simpson: (BRIGHTENING) Hey, I know a good drink. Really hits the spot. I invented it myself...\n",
      "Moe_Szyslak: Sorry, Harv.\n",
      "Moe_Szyslak: Whoa, sounds like one hell of a drink. What do you call it?\n",
      "Homer_Simpson: A \"Flaming Homer\".\n",
      "Moe_Szyslak: Okay, why don't you make us up a couple of \"Flaming Homers\"?\n",
      "Homer_Simpson: Hey Moe, you got any cough syrup?\n",
      "Moe_Szyslak: Uh, let me check the lost and found.\n",
      "Moe_Szyslak: What do we got here, Bowie knife, troll doll, glass eye...\n",
      "Moe_Szyslak: Oh. Here we are.\n",
      "Moe_Szyslak: It's not without its charm.\n",
      "Homer_Simpson: Try lighting it on fire.\n",
      "Moe_Szyslak: (SMILING) Whoa! Homer, it's like there's a party in my mouth and everyone's invited.\n",
      "Larry: Hey, your Love Tester's busted. I want my nickel back. (COUGHS)\n",
      "Moe_Szyslak: Hey, buddy. Have one on the house.\n",
      "Larry: Hey, hey, this drink is delicious! And my phlegm feels looser. What do you call it?\n",
      "Homer_Simpson: Well, it's called a \"Flaming...\n",
      "Moe_Szyslak: Moe! It's called a \"Flaming Moe\"! That's right, a \"Flaming Moe\". My name is Moe, and I invented it. That's why it's called a Flaming Moe. What? What are you lookin' at, Homer? It's a Flaming Moe I'm Moe.\n",
      "Barney_Gumble: Hey, what's this?\n",
      "Moe_Szyslak: A sneeze guard.\n",
      "Barney_Gumble: Wow, it really works.\n",
      "HARV: (CHUCKLING) I'll be back.\n",
      "Homer_Simpson: Moe, I haven't seen the place this crowded since the government cracked down on you for accepting food stamps. Do you think my drink had something to do with it?\n",
      "Moe_Szyslak: Who can say? It's probably a combination of things.\n",
      "Patron_#1: (TO MOE) Another pitcher of those amazing \"Flaming Moe's\".\n",
      "Patron_#2: Boy, I hate this joint, but I love that drink.\n",
      "Collette: Barkeep, I couldn't help noticing your sign.\n",
      "Moe_Szyslak: The one that says, \"Bartenders Do It 'Til You Barf\"?\n",
      "Collette: No, above that store-bought drollery.\n",
      "Moe_Szyslak: Oh great! Why don't we fill out an application? (READING) I'll need your name, measurements and turn ons..\n",
      "Collette: You really expect me to tell you my measurements?\n",
      "Moe_Szyslak: You could, but I find this way is much more accurate... and fun.\n",
      "Collette: (DISGUSTED) what do you offer in the way of salary?\n",
      "Moe_Szyslak: Minimum wage and tips. (MEANINGFULLY) Of course there are fringe benefits.\n",
      "Collette: Such as?\n",
      "Moe_Szyslak: An unforgettable weekend at Club Moe.\n",
      "Collette: I prefer to take my vacations someplace hot.\n",
      "Moe_Szyslak: I like your moxie, kid. You're hired.\n",
      "Collette: You shan't regret this.\n",
      "Moe_Szyslak: Methinks I shan't.\n",
      "HARV: (TO MOE) Pardon me, are you the genius behind the \"Flaming Moe\"?\n",
      "Homer_Simpson: Why yes I --\n",
      "Moe_Szyslak: (CUTTING HIM OFF) I'm your man.\n",
      "HARV: Huh uh. My name is Harv Bannister. I work for \"Tipsy McStagger's Good Time Drinking and Eating Emporium\".\n",
      "Moe_Szyslak: Oh yeah? Hey, what's Mr. McStagger really like?\n",
      "HARV: Actually, there is no Tipsy McStagger. He's just a composite of other successful logos.\n",
      "Moe_Szyslak: Well, you tell him from me that he makes one great mozzarella stick.\n",
      "HARV: (QUICKLY) Yes, fine, I will. Anyway, I've got a proposition for you.\n",
      "Moe_Szyslak: Keep talkin'.\n",
      "HARV: We feel your \"Flaming Moe\" is perfect for our restaurant chain. We want to buy the recipe.\n",
      "Moe_Szyslak: No dice. The \"Flaming Moe\" is not for sale. Do you know how much of my blood and sweat are in this drink?\n",
      "Barney_Gumble: Good for you, Moe. Only an idiot would give away a million dollar idea like that.\n",
      "Moe_Szyslak: (TO HARV) I'm sorry, but the secret ingredient dies with me.\n",
      "Delivery_Man: (TO MOE) Thirty cases of cough syrup. Sign here.\n",
      "Moe_Szyslak: (COVERING NERVOUS LAUGHING) I got hooked on this stuff in the service.\n",
      "Homer_Simpson: (QUIETLY) Hi, Moe. Where's that waitress of yours?\n",
      "Moe_Szyslak: Ah, she left to pursue a movie career. Frankly I think she was better off here.\n",
      "Homer_Simpson: Moe, sorry I lost you hundreds of thousands of dollars.\n",
      "Moe_Szyslak: Oh, hey, hey. Maybe some things are too good to be kept a secret.\n",
      "Homer_Simpson: I guess so.\n",
      "Moe_Szyslak: Compliments of the house. (WARMLY) One \"Flaming Homer\".\n",
      "Homer_Simpson: Ahh. Thanks, Moe. You're the greatest friend a guy could ever have.\n",
      "Homer_Simpson: Hey, do you think Aerosmith will be in tonight?\n",
      "Moe_Szyslak: I doubt it.\n",
      "\n",
      "\n",
      "Moe_Szyslak: (SHOCKED) Are you sure? Cuz once I open the bottle there's no refund.\n",
      "Moe_Szyslak: Hey, Homer. Wanna Duff?\n",
      "Homer_Simpson: (SMOOTHLY) No, I'd like a bottle of Henry K. Duff's Private Reserve.\n",
      "Homer_Simpson: For your information, I just made a cool twenty-five dollars playing the market. Buy low, sell high, that's my motto. I may just quit my job at the power plant to become a full-time stock market guy.\n",
      "Homer_Simpson: Have a Duff, boys!\n",
      "Hans: (GERMAN ACCENT, FRIENDLY) Oh, thank you. My English is not perfect, but I have to tell you your beer is like swill to us. Do I have that right? I am saying that only a swine would drink this beer.\n",
      "Fritz: (GERMAN ACCENT) Yeah, but thank you anyway.\n",
      "Homer_Simpson: Hey, you guys aren't from around here, are you?\n",
      "Hans: Ech, nein. We are from Germany. He is from the East. I am from the West.\n",
      "Fritz: I had a big company and he had a big company. Now we have a very big company.\n",
      "Hans: We are interested in buying the power plant. Do you think the owner would ever sell it?\n",
      "Homer_Simpson: (VERY CONFIDENT) Well, I happen to know that he won't sell it for less than 100 million dollars.\n",
      "Fritz: A hundred million?\n",
      "Hans: Oh, don't worry! We'll still have enough left to buy the Cleveland Browns.\n",
      "Moe_Szyslak: (INTO PHONE) Moe's Tavern. Moe speaking.\n",
      "Bart_Simpson: (INTO PHONE) Uh yes, I'm looking for a Mrs. O'Problem. First name... Bee.\n",
      "Moe_Szyslak: (INTO PHONE) Ah, yeah. Just a minute, I'll check. (CALLING OUT) Uh, Bee O'Problem. Bee O'Problem. C'mon, guys. Do I have an O'Problem here?\n",
      "Barney_Gumble: You sure do!\n",
      "Moe_Szyslak: (REALIZING) Awwww. (INTO PHONE) It's you, isn't it?\n",
      "Moe_Szyslak: Listen you, when I get a hold of you, I'm gonna use your head for a bucket and paint my house with your brains!\n",
      "Bart_Simpson: Excuse me, I'm looking for --\n",
      "Moe_Szyslak: Wait a minute. I know that voice.\n",
      "Moe_Szyslak: If it isn't little Bart Simpson! I haven't seen you in years.\n",
      "Bart_Simpson: That's right. That's my pop!\n",
      "Moe_Szyslak: Ah, little Bart... we hear all about your monkeyshines.\n",
      "Moe_Szyslak: (CONSPIRATORIAL) Bet you get into all kinds of trouble he don't even know about. Am I right? Huh? Am I right?\n",
      "Bart_Simpson: (CAN'T RESIST) Yeah, well, I make some crank phone calls.\n",
      "Moe_Szyslak: (MUSSES BART'S HAIR) (LAUGHS) That's great! Hey, would you sing that old song you used to sing for me?\n",
      "Bart_Simpson: (A LITTLE EMBARRASSED) Moe, for you... anything?\n",
      "Bart_Simpson: (SINGING) EVERY TEDDY BEAR WHO'S BEEN GOOD IS SURE OF A TREAT TODAY/ THERE'S LOTS OF MARVELOUS THINGS TO EAT, AND WONDERFUL GAMES TO PLAY/ BENEATH THE TREES, WHERE NOBODY SEES/ THEY'LL HIDE AND SEEK AS LONG AS THEY PLEASE/ TODAY'S THE DAY THE TEDDY BEARS HAVE THEIR PICNIC!\n",
      "Moe_Szyslak: He's a pip, this one is!\n",
      "C._Montgomery_Burns: Ah, the mirthless laugh of the damned. Hold your nose, Smithers, we're going in!\n",
      "C._Montgomery_Burns: (TO SMITHERS) Watch me blend in. (TO MOE) Barkeep, some cheap domestic beer for me and my \"buddy\" here.\n",
      "Homer_Simpson: I'm not your buddy, you greedy old reptile!\n",
      "C._Montgomery_Burns: Smithers, who is this saucy fellow?\n",
      "Waylon_Smithers: Homer Simpson, sir. Sector Sieben-gruben -- I mean, Sector 7G. Recently terminated.\n",
      "Homer_Simpson: That's right. I lost my job so that you could have another 100 million dollars.\n",
      "Homer_Simpson: (POINTED) Let me ask you something. Does your money cheer you up when you're feeling blue?\n",
      "C._Montgomery_Burns: Yes.\n",
      "Homer_Simpson: Okay, bad example. So let me ask you this, does your money ever hug you when you come home at night?\n",
      "C._Montgomery_Burns: (SHAKEN) Why, no.\n",
      "Homer_Simpson: And does it ever say, \"I love you?\"\n",
      "C._Montgomery_Burns: (SHAKEN) No, it doesn't.\n",
      "Homer_Simpson: (SING-SONG) Nobody loves you. Nobody loves you. You're old and you're ugly. Nobody loves you. Yea, yea, yea yea!\n",
      "Homer_Simpson: Nobody loves you...\n",
      "C._Montgomery_Burns: Good heavens, Smithers! They're not afraid of me anymore!\n",
      "Bart_Simpson: Hey Mr. Burns, did you get that letter I sent?\n",
      "C._Montgomery_Burns: Letter? I don't recall any letter...\n",
      "Bart_Simpson: That's because I forgot to stamp it.\n",
      "Moe_Szyslak: (LAUGHING) Ah, that kid slays me.\n",
      "C._Montgomery_Burns: That was no accident. Let's get out of here.\n",
      "Homer_Simpson: (SINGING) Na na na na / Na na na na /\n",
      "Barflies: Hey hey hey / Goodbye -- Na na na na / na na na na / hey hey hey / goodbye...\n"
     ]
    }
   ],
   "source": [
    "view_sentence_range = (60, 200)\n",
    "\n",
    "\"\"\"\n",
    "DON'T MODIFY ANYTHING IN THIS CELL\n",
    "\"\"\"\n",
    "import numpy as np\n",
    "\n",
    "print('Dataset Stats')\n",
    "print('Roughly the number of unique words: {}'.format(len({word: None for word in text.split()})))\n",
    "scenes = text.split('\\n\\n')\n",
    "print('Number of scenes: {}'.format(len(scenes)))\n",
    "sentence_count_scene = [scene.count('\\n') for scene in scenes]\n",
    "print('Average number of sentences in each scene: {}'.format(np.average(sentence_count_scene)))\n",
    "\n",
    "sentences = [sentence for scene in scenes for sentence in scene.split('\\n')]\n",
    "print('Number of lines: {}'.format(len(sentences)))\n",
    "word_count_sentence = [len(sentence.split()) for sentence in sentences]\n",
    "print('Average number of words in each line: {}'.format(np.average(word_count_sentence)))\n",
    "\n",
    "print()\n",
    "print('The sentences {} to {}:'.format(*view_sentence_range))\n",
    "print('\\n'.join(text.split('\\n')[view_sentence_range[0]:view_sentence_range[1]]))"
   ]
  },
  {
   "cell_type": "markdown",
   "metadata": {
    "deletable": true,
    "editable": true
   },
   "source": [
    "## Implement Preprocessing Functions\n",
    "The first thing to do to any dataset is preprocessing.  Implement the following preprocessing functions below:\n",
    "- Lookup Table\n",
    "- Tokenize Punctuation\n",
    "\n",
    "### Lookup Table\n",
    "To create a word embedding, you first need to transform the words to ids.  In this function, create two dictionaries:\n",
    "- Dictionary to go from the words to an id, we'll call `vocab_to_int`\n",
    "- Dictionary to go from the id to word, we'll call `int_to_vocab`\n",
    "\n",
    "Return these dictionaries in the following tuple `(vocab_to_int, int_to_vocab)`"
   ]
  },
  {
   "cell_type": "code",
   "execution_count": 3,
   "metadata": {
    "collapsed": false,
    "deletable": true,
    "editable": true
   },
   "outputs": [
    {
     "name": "stdout",
     "output_type": "stream",
     "text": [
      "Tests Passed\n"
     ]
    }
   ],
   "source": [
    "import numpy as np\n",
    "import problem_unittests as tests\n",
    "\n",
    "def create_lookup_tables(text):\n",
    "    \"\"\"\n",
    "    Create lookup tables for vocabulary\n",
    "    :param text: The text of tv scripts split into words\n",
    "    :return: A tuple of dicts (vocab_to_int, int_to_vocab)\n",
    "    \"\"\"\n",
    "    # TODO: Implement Function\n",
    "    \n",
    "    vocab_to_int = {}\n",
    "    \n",
    "    int_to_vocab = {}\n",
    "    \n",
    "    for i, w in enumerate(set(text)):\n",
    "        \n",
    "        vocab_to_int[w] = i\n",
    "        \n",
    "        int_to_vocab[i] = w\n",
    "    \n",
    "\n",
    "    return (vocab_to_int, int_to_vocab)\n",
    "\n",
    "\n",
    "\"\"\"\n",
    "DON'T MODIFY ANYTHING IN THIS CELL THAT IS BELOW THIS LINE\n",
    "\"\"\"\n",
    "tests.test_create_lookup_tables(create_lookup_tables)"
   ]
  },
  {
   "cell_type": "markdown",
   "metadata": {
    "deletable": true,
    "editable": true
   },
   "source": [
    "### Tokenize Punctuation\n",
    "We'll be splitting the script into a word array using spaces as delimiters.  However, punctuations like periods and exclamation marks make it hard for the neural network to distinguish between the word \"bye\" and \"bye!\".\n",
    "\n",
    "Implement the function `token_lookup` to return a dict that will be used to tokenize symbols like \"!\" into \"||Exclamation_Mark||\".  Create a dictionary for the following symbols where the symbol is the key and value is the token:\n",
    "- Period ( . )\n",
    "- Comma ( , )\n",
    "- Quotation Mark ( \" )\n",
    "- Semicolon ( ; )\n",
    "- Exclamation mark ( ! )\n",
    "- Question mark ( ? )\n",
    "- Left Parentheses ( ( )\n",
    "- Right Parentheses ( ) )\n",
    "- Dash ( -- )\n",
    "- Return ( \\n )\n",
    "\n",
    "This dictionary will be used to token the symbols and add the delimiter (space) around it.  This separates the symbols as it's own word, making it easier for the neural network to predict on the next word. Make sure you don't use a token that could be confused as a word. Instead of using the token \"dash\", try using something like \"||dash||\"."
   ]
  },
  {
   "cell_type": "code",
   "execution_count": 4,
   "metadata": {
    "collapsed": false,
    "deletable": true,
    "editable": true
   },
   "outputs": [
    {
     "name": "stdout",
     "output_type": "stream",
     "text": [
      "Tests Passed\n"
     ]
    }
   ],
   "source": [
    "def token_lookup():\n",
    "    \"\"\"\n",
    "    Generate a dict to turn punctuation into a token.\n",
    "    :return: Tokenize dictionary where the key is the punctuation and the value is the token\n",
    "    \"\"\"\n",
    "    # TODO: Implement Function\n",
    "    \n",
    "    keys = ['.', ',', '\"', ';', '!', '?', '(',')', '--', '\\n']\n",
    "    values = ['||Period||', '||Comma||', '||Quotation_Mark||', '||Semicolon||', '||Exclamation_Mark||',\n",
    "              '||Question_Mark||', '||Left_Parentheses||', '||Right_Parentheses||', '||Dash||',\n",
    "              '||Return||']    \n",
    "     \n",
    "    \n",
    "    return dict(zip(keys, values))\n",
    "\n",
    "\"\"\"\n",
    "DON'T MODIFY ANYTHING IN THIS CELL THAT IS BELOW THIS LINE\n",
    "\"\"\"\n",
    "tests.test_tokenize(token_lookup)"
   ]
  },
  {
   "cell_type": "markdown",
   "metadata": {
    "deletable": true,
    "editable": true
   },
   "source": [
    "## Preprocess all the data and save it\n",
    "Running the code cell below will preprocess all the data and save it to file."
   ]
  },
  {
   "cell_type": "code",
   "execution_count": 5,
   "metadata": {
    "collapsed": false,
    "deletable": true,
    "editable": true
   },
   "outputs": [],
   "source": [
    "\"\"\"\n",
    "DON'T MODIFY ANYTHING IN THIS CELL\n",
    "\"\"\"\n",
    "# Preprocess Training, Validation, and Testing Data\n",
    "helper.preprocess_and_save_data(data_dir, token_lookup, create_lookup_tables)"
   ]
  },
  {
   "cell_type": "markdown",
   "metadata": {
    "deletable": true,
    "editable": true
   },
   "source": [
    "# Check Point\n",
    "This is your first checkpoint. If you ever decide to come back to this notebook or have to restart the notebook, you can start from here. The preprocessed data has been saved to disk."
   ]
  },
  {
   "cell_type": "code",
   "execution_count": 1,
   "metadata": {
    "collapsed": false,
    "deletable": true,
    "editable": true
   },
   "outputs": [],
   "source": [
    "\"\"\"\n",
    "DON'T MODIFY ANYTHING IN THIS CELL\n",
    "\"\"\"\n",
    "import helper\n",
    "import numpy as np\n",
    "import problem_unittests as tests\n",
    "\n",
    "int_text, vocab_to_int, int_to_vocab, token_dict = helper.load_preprocess()"
   ]
  },
  {
   "cell_type": "markdown",
   "metadata": {
    "deletable": true,
    "editable": true
   },
   "source": [
    "## Build the Neural Network\n",
    "You'll build the components necessary to build a RNN by implementing the following functions below:\n",
    "- get_inputs\n",
    "- get_init_cell\n",
    "- get_embed\n",
    "- build_rnn\n",
    "- build_nn\n",
    "- get_batches\n",
    "\n",
    "### Check the Version of TensorFlow and Access to GPU"
   ]
  },
  {
   "cell_type": "code",
   "execution_count": 2,
   "metadata": {
    "collapsed": false,
    "deletable": true,
    "editable": true
   },
   "outputs": [
    {
     "name": "stdout",
     "output_type": "stream",
     "text": [
      "TensorFlow Version: 1.0.0\n",
      "Default GPU Device: /gpu:0\n"
     ]
    }
   ],
   "source": [
    "\"\"\"\n",
    "DON'T MODIFY ANYTHING IN THIS CELL\n",
    "\"\"\"\n",
    "from distutils.version import LooseVersion\n",
    "import warnings\n",
    "import tensorflow as tf\n",
    "\n",
    "# Check TensorFlow Version\n",
    "assert LooseVersion(tf.__version__) >= LooseVersion('1.0'), 'Please use TensorFlow version 1.0 or newer'\n",
    "print('TensorFlow Version: {}'.format(tf.__version__))\n",
    "\n",
    "# Check for a GPU\n",
    "if not tf.test.gpu_device_name():\n",
    "    warnings.warn('No GPU found. Please use a GPU to train your neural network.')\n",
    "else:\n",
    "    print('Default GPU Device: {}'.format(tf.test.gpu_device_name()))"
   ]
  },
  {
   "cell_type": "markdown",
   "metadata": {
    "deletable": true,
    "editable": true
   },
   "source": [
    "### Input\n",
    "Implement the `get_inputs()` function to create TF Placeholders for the Neural Network.  It should create the following placeholders:\n",
    "- Input text placeholder named \"input\" using the [TF Placeholder](https://www.tensorflow.org/api_docs/python/tf/placeholder) `name` parameter.\n",
    "- Targets placeholder\n",
    "- Learning Rate placeholder\n",
    "\n",
    "Return the placeholders in the following the tuple `(Input, Targets, LearingRate)`"
   ]
  },
  {
   "cell_type": "code",
   "execution_count": 3,
   "metadata": {
    "collapsed": false,
    "deletable": true,
    "editable": true
   },
   "outputs": [
    {
     "name": "stdout",
     "output_type": "stream",
     "text": [
      "Tests Passed\n"
     ]
    }
   ],
   "source": [
    "def get_inputs():\n",
    "    \"\"\"\n",
    "    Create TF Placeholders for input, targets, and learning rate.\n",
    "    :return: Tuple (input, targets, learning rate)\n",
    "    \"\"\"\n",
    "    # TODO: Implement Function\n",
    "    \n",
    "    inputs = tf.placeholder(tf.int32, [None,None], name='input')\n",
    "    \n",
    "    targets = tf.placeholder(tf.int32, [None, None], name='target')\n",
    "    \n",
    "    learning_rate = tf.placeholder(tf.float32,name='learning_rate')\n",
    "    \n",
    "    \n",
    "    \n",
    "    return inputs , targets, learning_rate\n",
    "\n",
    "\n",
    "\"\"\"\n",
    "DON'T MODIFY ANYTHING IN THIS CELL THAT IS BELOW THIS LINE\n",
    "\"\"\"\n",
    "tests.test_get_inputs(get_inputs)"
   ]
  },
  {
   "cell_type": "markdown",
   "metadata": {
    "deletable": true,
    "editable": true
   },
   "source": [
    "### Build RNN Cell and Initialize\n",
    "Stack one or more [`BasicLSTMCells`](https://www.tensorflow.org/api_docs/python/tf/contrib/rnn/BasicLSTMCell) in a [`MultiRNNCell`](https://www.tensorflow.org/api_docs/python/tf/contrib/rnn/MultiRNNCell).\n",
    "- The Rnn size should be set using `rnn_size`\n",
    "- Initalize Cell State using the MultiRNNCell's [`zero_state()`](https://www.tensorflow.org/api_docs/python/tf/contrib/rnn/MultiRNNCell#zero_state) function\n",
    "    - Apply the name \"initial_state\" to the initial state using [`tf.identity()`](https://www.tensorflow.org/api_docs/python/tf/identity)\n",
    "\n",
    "Return the cell and initial state in the following tuple `(Cell, InitialState)`"
   ]
  },
  {
   "cell_type": "code",
   "execution_count": 4,
   "metadata": {
    "collapsed": false,
    "deletable": true,
    "editable": true
   },
   "outputs": [
    {
     "name": "stdout",
     "output_type": "stream",
     "text": [
      "Tests Passed\n"
     ]
    }
   ],
   "source": [
    "def get_init_cell(batch_size, rnn_size):\n",
    "    \"\"\"\n",
    "    Create an RNN Cell and initialize it.\n",
    "    :param batch_size: Size of batches\n",
    "    :param rnn_size: Size of RNNs\n",
    "    :return: Tuple (cell, initialize state)\n",
    "    \"\"\"\n",
    "    # TODO: Implement Function\n",
    "    \n",
    "    lstm_layers = 2\n",
    "    \n",
    "    #basic LSTM cell\n",
    "    lstm = tf.contrib.rnn.BasicLSTMCell(rnn_size)\n",
    "    \n",
    " \n",
    "    \n",
    "    # Stacking up 2 multiple LSTM layers\n",
    "    Cell = tf.contrib.rnn.MultiRNNCell([lstm] * lstm_layers)\n",
    "    \n",
    "    \n",
    "    \n",
    "    \n",
    "    \n",
    "    #initial state\n",
    "    InitialState = Cell.zero_state(batch_size, tf.float32)\n",
    "    \n",
    "    \n",
    "    InitialState = tf.identity(InitialState,name='initial_state')\n",
    "    \n",
    "    \n",
    "    \n",
    "    \n",
    "    return Cell, InitialState\n",
    "\n",
    "\n",
    "\"\"\"\n",
    "DON'T MODIFY ANYTHING IN THIS CELL THAT IS BELOW THIS LINE\n",
    "\"\"\"\n",
    "tests.test_get_init_cell(get_init_cell)"
   ]
  },
  {
   "cell_type": "markdown",
   "metadata": {
    "deletable": true,
    "editable": true
   },
   "source": [
    "### Word Embedding\n",
    "Apply embedding to `input_data` using TensorFlow.  Return the embedded sequence."
   ]
  },
  {
   "cell_type": "code",
   "execution_count": 5,
   "metadata": {
    "collapsed": false,
    "deletable": true,
    "editable": true
   },
   "outputs": [
    {
     "name": "stdout",
     "output_type": "stream",
     "text": [
      "Tests Passed\n"
     ]
    }
   ],
   "source": [
    "def get_embed(input_data, vocab_size, embed_dim):\n",
    "    \"\"\"\n",
    "    Create embedding for <input_data>.\n",
    "    :param input_data: TF placeholder for text input.\n",
    "    :param vocab_size: Number of words in vocabulary.\n",
    "    :param embed_dim: Number of embedding dimensions\n",
    "    :return: Embedded input.\n",
    "    \"\"\"\n",
    "    # TODO: Implement Function\n",
    "    embedding = tf.Variable(tf.random_uniform((vocab_size, embed_dim), -1, 1))\n",
    "    \n",
    "    embed = tf.nn.embedding_lookup(embedding, input_data)\n",
    "    \n",
    "    return embed\n",
    "\n",
    "\n",
    "\"\"\"\n",
    "DON'T MODIFY ANYTHING IN THIS CELL THAT IS BELOW THIS LINE\n",
    "\"\"\"\n",
    "tests.test_get_embed(get_embed)"
   ]
  },
  {
   "cell_type": "markdown",
   "metadata": {
    "deletable": true,
    "editable": true
   },
   "source": [
    "### Build RNN\n",
    "You created a RNN Cell in the `get_init_cell()` function.  Time to use the cell to create a RNN.\n",
    "- Build the RNN using the [`tf.nn.dynamic_rnn()`](https://www.tensorflow.org/api_docs/python/tf/nn/dynamic_rnn)\n",
    " - Apply the name \"final_state\" to the final state using [`tf.identity()`](https://www.tensorflow.org/api_docs/python/tf/identity)\n",
    "\n",
    "Return the outputs and final_state state in the following tuple `(Outputs, FinalState)` "
   ]
  },
  {
   "cell_type": "code",
   "execution_count": 6,
   "metadata": {
    "collapsed": false,
    "deletable": true,
    "editable": true
   },
   "outputs": [
    {
     "name": "stdout",
     "output_type": "stream",
     "text": [
      "Tests Passed\n"
     ]
    }
   ],
   "source": [
    "def build_rnn(cell, inputs):\n",
    "    \"\"\"\n",
    "    Create a RNN using a RNN Cell\n",
    "    :param cell: RNN Cell\n",
    "    :param inputs: Input text data\n",
    "    :return: Tuple (Outputs, Final State)\n",
    "    \"\"\"\n",
    "    # TODO: Implement Function\n",
    "    \n",
    "    outputs, FinalState = tf.nn.dynamic_rnn(cell, inputs,\n",
    "                                             dtype=tf.float32)\n",
    "    \n",
    "    FinalState = tf.identity(FinalState,name='final_state')\n",
    "    \n",
    "    \n",
    "    return outputs, FinalState\n",
    "\n",
    "\n",
    "\"\"\"\n",
    "DON'T MODIFY ANYTHING IN THIS CELL THAT IS BELOW THIS LINE\n",
    "\"\"\"\n",
    "tests.test_build_rnn(build_rnn)"
   ]
  },
  {
   "cell_type": "markdown",
   "metadata": {
    "deletable": true,
    "editable": true
   },
   "source": [
    "### Build the Neural Network\n",
    "Apply the functions you implemented above to:\n",
    "- Apply embedding to `input_data` using your `get_embed(input_data, vocab_size, embed_dim)` function.\n",
    "- Build RNN using `cell` and your `build_rnn(cell, inputs)` function.\n",
    "- Apply a fully connected layer with a linear activation and `vocab_size` as the number of outputs.\n",
    "\n",
    "Return the logits and final state in the following tuple (Logits, FinalState) "
   ]
  },
  {
   "cell_type": "code",
   "execution_count": 7,
   "metadata": {
    "collapsed": false,
    "deletable": true,
    "editable": true
   },
   "outputs": [
    {
     "name": "stdout",
     "output_type": "stream",
     "text": [
      "Tests Passed\n"
     ]
    }
   ],
   "source": [
    "def build_nn(cell, rnn_size, input_data, vocab_size):\n",
    "    \"\"\"\n",
    "    Build part of the neural network\n",
    "    :param cell: RNN cell\n",
    "    :param rnn_size: Size of rnns\n",
    "    :param input_data: Input data\n",
    "    :param vocab_size: Vocabulary size\n",
    "    :return: Tuple (Logits, FinalState)\n",
    "    \"\"\"\n",
    "    # TODO: Implement Function\n",
    "    \n",
    "    embed = get_embed(input_data,vocab_size,300)\n",
    "    output , FinalState = build_rnn(cell, embed)\n",
    "    \n",
    "    weights = tf.truncated_normal_initializer(stddev =0.05,mean=0)\n",
    "    \n",
    "    biases = tf.zeros_initializer()\n",
    "    \n",
    "    Logits = tf.contrib.layers.fully_connected(output,vocab_size,weights_initializer=weights,biases_initializer=biases,activation_fn=None)\n",
    "    \n",
    "    return Logits, FinalState\n",
    "\n",
    "\n",
    "\"\"\"\n",
    "DON'T MODIFY ANYTHING IN THIS CELL THAT IS BELOW THIS LINE\n",
    "\"\"\"\n",
    "tests.test_build_nn(build_nn)"
   ]
  },
  {
   "cell_type": "markdown",
   "metadata": {
    "deletable": true,
    "editable": true
   },
   "source": [
    "### Batches\n",
    "Implement `get_batches` to create batches of input and targets using `int_text`.  The batches should be a Numpy array with the shape `(number of batches, 2, batch size, sequence length)`. Each batch contains two elements:\n",
    "- The first element is a single batch of **input** with the shape `[batch size, sequence length]`\n",
    "- The second element is a single batch of **targets** with the shape `[batch size, sequence length]`\n",
    "\n",
    "If you can't fill the last batch with enough data, drop the last batch.\n",
    "\n",
    "For exmple, `get_batches([1, 2, 3, 4, 5, 6, 7, 8, 9, 10, 11, 12, 13, 14, 15], 2, 3)` would return a Numpy array of the following:\n",
    "```\n",
    "[\n",
    "  # First Batch\n",
    "  [\n",
    "    # Batch of Input\n",
    "    [[ 1  2  3], [ 7  8  9]],\n",
    "    # Batch of targets\n",
    "    [[ 2  3  4], [ 8  9 10]]\n",
    "  ],\n",
    " \n",
    "  # Second Batch\n",
    "  [\n",
    "    # Batch of Input\n",
    "    [[ 4  5  6], [10 11 12]],\n",
    "    # Batch of targets\n",
    "    [[ 5  6  7], [11 12 13]]\n",
    "  ]\n",
    "]\n",
    "```"
   ]
  },
  {
   "cell_type": "code",
   "execution_count": 70,
   "metadata": {
    "collapsed": false,
    "deletable": true,
    "editable": true
   },
   "outputs": [
    {
     "name": "stdout",
     "output_type": "stream",
     "text": [
      "Tests Passed\n"
     ]
    }
   ],
   "source": [
    "def get_batches(int_text, batch_size, seq_length):\n",
    "    \"\"\"\n",
    "    Return batches of input and target\n",
    "    :param int_text: Text with the words replaced by their ids\n",
    "    :param batch_size: The size of batch\n",
    "    :param seq_length: The length of sequence\n",
    "    :return: Batches as a Numpy array\n",
    "    \"\"\"\n",
    "  # TODO: Implement Function\n",
    "    \n",
    "    input_batch = []\n",
    "    \n",
    "    target_batch = []\n",
    "    \n",
    "    for i in range(len(int_text)):\n",
    "        new_in = int_text[i*seq_length:i*seq_length+seq_length]\n",
    "        new_out = int_text[i*seq_length + 1:i*seq_length+seq_length+1]\n",
    "        if len(new_in) < seq_length or len(new_out) < seq_length:\n",
    "            break\n",
    "        if(i%2 == 0):  \n",
    "            input_batch += [new_in]  \n",
    "            target_batch += [new_out]\n",
    "        elif(i%2 != 0): \n",
    "            input_batch += [new_out]  \n",
    "            target_batch += [new_in]\n",
    "            \n",
    "            \n",
    "   #<Start> Logic implemented to distribute input along the batches, not sequentially all in the same batch. <Start>#\n",
    "   #<Start>--------------------------------------------------------------------------------------------------<Start>#\n",
    "   #<Start>--------------------------------------------------------------------------------------------------<Start># \n",
    "            \n",
    "    temp = input_batch[1]\n",
    "    \n",
    "    input_batch[1] = input_batch[2]  \n",
    "       \n",
    "    input_batch[2] = temp\n",
    "    \n",
    "    \n",
    "    tempouter1 = target_batch[1]\n",
    "    \n",
    "    target_batch[1] = target_batch[0]  \n",
    "       \n",
    "    target_batch[0] = tempouter1\n",
    "    \n",
    "    \n",
    "    tempouter2 = target_batch[2]\n",
    "    \n",
    "    target_batch[2] = target_batch[3]  \n",
    "       \n",
    "    target_batch[3] = tempouter2\n",
    "    \n",
    "    \n",
    "    tempouter3 = target_batch[1]\n",
    "    \n",
    "    target_batch[1] = target_batch[2]  \n",
    "       \n",
    "    target_batch[2] = tempouter3\n",
    "    \n",
    "    \n",
    "    tempouterinner1 = target_batch[2]\n",
    "    \n",
    "    target_batch[2] = input_batch[2]  \n",
    "       \n",
    "    input_batch[2] = tempouterinner1\n",
    "    \n",
    "    \n",
    "    tempouterinner2 = target_batch[3]\n",
    "    \n",
    "    target_batch[3] = input_batch[3]  \n",
    "       \n",
    "    input_batch[3] = tempouterinner2\n",
    "    \n",
    "    \n",
    "    #<Close> Logic implemented to distribute input along the batches, not sequentially all in the same batch. <Close>#\n",
    "    #<Close>--------------------------------------------------------------------------------------------------<Close>#\n",
    "    #<Close>--------------------------------------------------------------------------------------------------<Close># \n",
    "        \n",
    "    inp_target_batch = [input_batch,target_batch]\n",
    "    \n",
    "    \n",
    "        \n",
    "    num_batches = int(len(int_text)/(batch_size*seq_length))\n",
    "        \n",
    "    inp_target_batch[0]= inp_target_batch[0][:num_batches*batch_size]\n",
    "    \n",
    "    inp_target_batch[1]= inp_target_batch[1][:num_batches*batch_size]\n",
    "        \n",
    "                       \n",
    "    return np.array(inp_target_batch).reshape(num_batches,2,batch_size,seq_length)\n",
    " \n",
    "\n",
    "\n",
    "\"\"\"\n",
    "DON'T MODIFY ANYTHING IN THIS CELL THAT IS BELOW THIS LINE\n",
    "\"\"\"\n",
    "tests.test_get_batches(get_batches)"
   ]
  },
  {
   "cell_type": "code",
   "execution_count": 72,
   "metadata": {
    "collapsed": false
   },
   "outputs": [
    {
     "data": {
      "text/plain": [
       "array([[[[ 1,  2,  3],\n",
       "         [ 7,  8,  9]],\n",
       "\n",
       "        [[ 2,  3,  4],\n",
       "         [ 8,  9, 10]]],\n",
       "\n",
       "\n",
       "       [[[ 4,  5,  6],\n",
       "         [10, 11, 12]],\n",
       "\n",
       "        [[ 5,  6,  7],\n",
       "         [11, 12, 13]]]])"
      ]
     },
     "execution_count": 72,
     "metadata": {},
     "output_type": "execute_result"
    }
   ],
   "source": [
    "#test case to validate get_batches function logic to confirm distribution of input along the batches, ##\n",
    "#not sequentially all in the same batch ##\n",
    "\n",
    "b=[1, 2, 3, 4, 5, 6, 7, 8, 9, 10, 11, 12,13,14,15]\n",
    "\n",
    "get_batches(b,2,3)"
   ]
  },
  {
   "cell_type": "markdown",
   "metadata": {
    "deletable": true,
    "editable": true
   },
   "source": [
    "## Neural Network Training\n",
    "### Hyperparameters\n",
    "Tune the following parameters:\n",
    "\n",
    "- Set `num_epochs` to the number of epochs.\n",
    "- Set `batch_size` to the batch size.\n",
    "- Set `rnn_size` to the size of the RNNs.\n",
    "- Set `seq_length` to the length of sequence.\n",
    "- Set `learning_rate` to the learning rate.\n",
    "- Set `show_every_n_batches` to the number of batches the neural network should print progress."
   ]
  },
  {
   "cell_type": "code",
   "execution_count": 79,
   "metadata": {
    "collapsed": true,
    "deletable": true,
    "editable": true
   },
   "outputs": [],
   "source": [
    "# Number of Epochs\n",
    "num_epochs = 100\n",
    "# Batch Size\n",
    "batch_size = 128\n",
    "# RNN Size\n",
    "rnn_size = 512\n",
    "# Sequence Length\n",
    "seq_length = 15\n",
    "# Learning Rate\n",
    "learning_rate = 0.01\n",
    "# Show stats for every n number of batches\n",
    "show_every_n_batches = 11\n",
    "\n",
    "\"\"\"\n",
    "DON'T MODIFY ANYTHING IN THIS CELL THAT IS BELOW THIS LINE\n",
    "\"\"\"\n",
    "save_dir = './save'"
   ]
  },
  {
   "cell_type": "markdown",
   "metadata": {
    "deletable": true,
    "editable": true
   },
   "source": [
    "### Build the Graph\n",
    "Build the graph using the neural network you implemented."
   ]
  },
  {
   "cell_type": "code",
   "execution_count": 80,
   "metadata": {
    "collapsed": false,
    "deletable": true,
    "editable": true
   },
   "outputs": [],
   "source": [
    "\"\"\"\n",
    "DON'T MODIFY ANYTHING IN THIS CELL\n",
    "\"\"\"\n",
    "from tensorflow.contrib import seq2seq\n",
    "\n",
    "train_graph = tf.Graph()\n",
    "with train_graph.as_default():\n",
    "    vocab_size = len(int_to_vocab)\n",
    "    input_text, targets, lr = get_inputs()\n",
    "    input_data_shape = tf.shape(input_text)\n",
    "    cell, initial_state = get_init_cell(input_data_shape[0], rnn_size)\n",
    "    logits, final_state = build_nn(cell, rnn_size, input_text, vocab_size)\n",
    "\n",
    "    # Probabilities for generating words\n",
    "    probs = tf.nn.softmax(logits, name='probs')\n",
    "\n",
    "    # Loss function\n",
    "    cost = seq2seq.sequence_loss(\n",
    "        logits,\n",
    "        targets,\n",
    "        tf.ones([input_data_shape[0], input_data_shape[1]]))\n",
    "\n",
    "    # Optimizer\n",
    "    optimizer = tf.train.AdamOptimizer(lr)\n",
    "\n",
    "    # Gradient Clipping\n",
    "    gradients = optimizer.compute_gradients(cost)\n",
    "    capped_gradients = [(tf.clip_by_value(grad, -1., 1.), var) for grad, var in gradients]\n",
    "    train_op = optimizer.apply_gradients(capped_gradients)"
   ]
  },
  {
   "cell_type": "markdown",
   "metadata": {
    "deletable": true,
    "editable": true
   },
   "source": [
    "## Train\n",
    "Train the neural network on the preprocessed data.  If you have a hard time getting a good loss, check the [forms](https://discussions.udacity.com/) to see if anyone is having the same problem."
   ]
  },
  {
   "cell_type": "code",
   "execution_count": 81,
   "metadata": {
    "collapsed": false,
    "deletable": true,
    "editable": true
   },
   "outputs": [
    {
     "name": "stdout",
     "output_type": "stream",
     "text": [
      "Epoch   0 Batch    0/35   train_loss = 8.821\n",
      "Epoch   0 Batch   11/35   train_loss = 7.553\n",
      "Epoch   0 Batch   22/35   train_loss = 7.086\n",
      "Epoch   0 Batch   33/35   train_loss = 6.957\n",
      "Epoch   1 Batch    9/35   train_loss = 6.378\n",
      "Epoch   1 Batch   20/35   train_loss = 6.279\n",
      "Epoch   1 Batch   31/35   train_loss = 6.597\n",
      "Epoch   2 Batch    7/35   train_loss = 6.225\n",
      "Epoch   2 Batch   18/35   train_loss = 6.293\n",
      "Epoch   2 Batch   29/35   train_loss = 6.111\n",
      "Epoch   3 Batch    5/35   train_loss = 6.088\n",
      "Epoch   3 Batch   16/35   train_loss = 6.153\n",
      "Epoch   3 Batch   27/35   train_loss = 6.124\n",
      "Epoch   4 Batch    3/35   train_loss = 6.093\n",
      "Epoch   4 Batch   14/35   train_loss = 6.129\n",
      "Epoch   4 Batch   25/35   train_loss = 5.847\n",
      "Epoch   5 Batch    1/35   train_loss = 5.766\n",
      "Epoch   5 Batch   12/35   train_loss = 6.064\n",
      "Epoch   5 Batch   23/35   train_loss = 5.816\n",
      "Epoch   5 Batch   34/35   train_loss = 5.938\n",
      "Epoch   6 Batch   10/35   train_loss = 5.933\n",
      "Epoch   6 Batch   21/35   train_loss = 6.006\n",
      "Epoch   6 Batch   32/35   train_loss = 5.951\n",
      "Epoch   7 Batch    8/35   train_loss = 5.916\n",
      "Epoch   7 Batch   19/35   train_loss = 5.775\n",
      "Epoch   7 Batch   30/35   train_loss = 5.975\n",
      "Epoch   8 Batch    6/35   train_loss = 5.740\n",
      "Epoch   8 Batch   17/35   train_loss = 5.754\n",
      "Epoch   8 Batch   28/35   train_loss = 5.882\n",
      "Epoch   9 Batch    4/35   train_loss = 5.711\n",
      "Epoch   9 Batch   15/35   train_loss = 5.783\n",
      "Epoch   9 Batch   26/35   train_loss = 5.866\n",
      "Epoch  10 Batch    2/35   train_loss = 5.636\n",
      "Epoch  10 Batch   13/35   train_loss = 5.805\n",
      "Epoch  10 Batch   24/35   train_loss = 5.579\n",
      "Epoch  11 Batch    0/35   train_loss = 5.836\n",
      "Epoch  11 Batch   11/35   train_loss = 5.792\n",
      "Epoch  11 Batch   22/35   train_loss = 5.692\n",
      "Epoch  11 Batch   33/35   train_loss = 5.718\n",
      "Epoch  12 Batch    9/35   train_loss = 5.610\n",
      "Epoch  12 Batch   20/35   train_loss = 5.578\n",
      "Epoch  12 Batch   31/35   train_loss = 5.715\n",
      "Epoch  13 Batch    7/35   train_loss = 5.577\n",
      "Epoch  13 Batch   18/35   train_loss = 5.534\n",
      "Epoch  13 Batch   29/35   train_loss = 5.476\n",
      "Epoch  14 Batch    5/35   train_loss = 5.489\n",
      "Epoch  14 Batch   16/35   train_loss = 5.504\n",
      "Epoch  14 Batch   27/35   train_loss = 5.545\n",
      "Epoch  15 Batch    3/35   train_loss = 5.380\n",
      "Epoch  15 Batch   14/35   train_loss = 5.398\n",
      "Epoch  15 Batch   25/35   train_loss = 5.182\n",
      "Epoch  16 Batch    1/35   train_loss = 5.166\n",
      "Epoch  16 Batch   12/35   train_loss = 5.200\n",
      "Epoch  16 Batch   23/35   train_loss = 5.057\n",
      "Epoch  16 Batch   34/35   train_loss = 5.191\n",
      "Epoch  17 Batch   10/35   train_loss = 5.036\n",
      "Epoch  17 Batch   21/35   train_loss = 5.105\n",
      "Epoch  17 Batch   32/35   train_loss = 5.159\n",
      "Epoch  18 Batch    8/35   train_loss = 5.002\n",
      "Epoch  18 Batch   19/35   train_loss = 5.125\n",
      "Epoch  18 Batch   30/35   train_loss = 4.924\n",
      "Epoch  19 Batch    6/35   train_loss = 4.896\n",
      "Epoch  19 Batch   17/35   train_loss = 4.904\n",
      "Epoch  19 Batch   28/35   train_loss = 4.838\n",
      "Epoch  20 Batch    4/35   train_loss = 4.753\n",
      "Epoch  20 Batch   15/35   train_loss = 4.815\n",
      "Epoch  20 Batch   26/35   train_loss = 4.861\n",
      "Epoch  21 Batch    2/35   train_loss = 4.823\n",
      "Epoch  21 Batch   13/35   train_loss = 4.576\n",
      "Epoch  21 Batch   24/35   train_loss = 4.666\n",
      "Epoch  22 Batch    0/35   train_loss = 4.841\n",
      "Epoch  22 Batch   11/35   train_loss = 4.651\n",
      "Epoch  22 Batch   22/35   train_loss = 4.548\n",
      "Epoch  22 Batch   33/35   train_loss = 4.583\n",
      "Epoch  23 Batch    9/35   train_loss = 4.563\n",
      "Epoch  23 Batch   20/35   train_loss = 4.371\n",
      "Epoch  23 Batch   31/35   train_loss = 4.656\n",
      "Epoch  24 Batch    7/35   train_loss = 4.597\n",
      "Epoch  24 Batch   18/35   train_loss = 4.434\n",
      "Epoch  24 Batch   29/35   train_loss = 4.238\n",
      "Epoch  25 Batch    5/35   train_loss = 4.306\n",
      "Epoch  25 Batch   16/35   train_loss = 4.343\n",
      "Epoch  25 Batch   27/35   train_loss = 4.321\n",
      "Epoch  26 Batch    3/35   train_loss = 4.359\n",
      "Epoch  26 Batch   14/35   train_loss = 4.295\n",
      "Epoch  26 Batch   25/35   train_loss = 4.131\n",
      "Epoch  27 Batch    1/35   train_loss = 4.161\n",
      "Epoch  27 Batch   12/35   train_loss = 4.003\n",
      "Epoch  27 Batch   23/35   train_loss = 3.983\n",
      "Epoch  27 Batch   34/35   train_loss = 3.951\n",
      "Epoch  28 Batch   10/35   train_loss = 3.910\n",
      "Epoch  28 Batch   21/35   train_loss = 3.835\n",
      "Epoch  28 Batch   32/35   train_loss = 3.876\n",
      "Epoch  29 Batch    8/35   train_loss = 3.797\n",
      "Epoch  29 Batch   19/35   train_loss = 3.896\n",
      "Epoch  29 Batch   30/35   train_loss = 3.477\n",
      "Epoch  30 Batch    6/35   train_loss = 3.587\n",
      "Epoch  30 Batch   17/35   train_loss = 3.620\n",
      "Epoch  30 Batch   28/35   train_loss = 3.305\n",
      "Epoch  31 Batch    4/35   train_loss = 3.376\n",
      "Epoch  31 Batch   15/35   train_loss = 3.354\n",
      "Epoch  31 Batch   26/35   train_loss = 3.307\n",
      "Epoch  32 Batch    2/35   train_loss = 3.498\n",
      "Epoch  32 Batch   13/35   train_loss = 3.129\n",
      "Epoch  32 Batch   24/35   train_loss = 3.392\n",
      "Epoch  33 Batch    0/35   train_loss = 3.350\n",
      "Epoch  33 Batch   11/35   train_loss = 3.113\n",
      "Epoch  33 Batch   22/35   train_loss = 2.954\n",
      "Epoch  33 Batch   33/35   train_loss = 3.127\n",
      "Epoch  34 Batch    9/35   train_loss = 3.032\n",
      "Epoch  34 Batch   20/35   train_loss = 2.978\n",
      "Epoch  34 Batch   31/35   train_loss = 3.161\n",
      "Epoch  35 Batch    7/35   train_loss = 3.278\n",
      "Epoch  35 Batch   18/35   train_loss = 2.924\n",
      "Epoch  35 Batch   29/35   train_loss = 2.868\n",
      "Epoch  36 Batch    5/35   train_loss = 2.969\n",
      "Epoch  36 Batch   16/35   train_loss = 2.923\n",
      "Epoch  36 Batch   27/35   train_loss = 2.777\n",
      "Epoch  37 Batch    3/35   train_loss = 2.811\n",
      "Epoch  37 Batch   14/35   train_loss = 2.717\n",
      "Epoch  37 Batch   25/35   train_loss = 2.684\n",
      "Epoch  38 Batch    1/35   train_loss = 2.826\n",
      "Epoch  38 Batch   12/35   train_loss = 2.673\n",
      "Epoch  38 Batch   23/35   train_loss = 2.639\n",
      "Epoch  38 Batch   34/35   train_loss = 2.617\n",
      "Epoch  39 Batch   10/35   train_loss = 2.649\n",
      "Epoch  39 Batch   21/35   train_loss = 2.507\n",
      "Epoch  39 Batch   32/35   train_loss = 2.505\n",
      "Epoch  40 Batch    8/35   train_loss = 2.566\n",
      "Epoch  40 Batch   19/35   train_loss = 2.717\n",
      "Epoch  40 Batch   30/35   train_loss = 2.156\n",
      "Epoch  41 Batch    6/35   train_loss = 2.433\n",
      "Epoch  41 Batch   17/35   train_loss = 2.490\n",
      "Epoch  41 Batch   28/35   train_loss = 2.191\n",
      "Epoch  42 Batch    4/35   train_loss = 2.137\n",
      "Epoch  42 Batch   15/35   train_loss = 2.284\n",
      "Epoch  42 Batch   26/35   train_loss = 2.177\n",
      "Epoch  43 Batch    2/35   train_loss = 2.251\n",
      "Epoch  43 Batch   13/35   train_loss = 1.999\n",
      "Epoch  43 Batch   24/35   train_loss = 2.248\n",
      "Epoch  44 Batch    0/35   train_loss = 2.087\n",
      "Epoch  44 Batch   11/35   train_loss = 1.968\n",
      "Epoch  44 Batch   22/35   train_loss = 1.870\n",
      "Epoch  44 Batch   33/35   train_loss = 1.883\n",
      "Epoch  45 Batch    9/35   train_loss = 1.768\n",
      "Epoch  45 Batch   20/35   train_loss = 1.871\n",
      "Epoch  45 Batch   31/35   train_loss = 1.949\n",
      "Epoch  46 Batch    7/35   train_loss = 1.906\n",
      "Epoch  46 Batch   18/35   train_loss = 1.675\n",
      "Epoch  46 Batch   29/35   train_loss = 1.769\n",
      "Epoch  47 Batch    5/35   train_loss = 1.643\n",
      "Epoch  47 Batch   16/35   train_loss = 1.691\n",
      "Epoch  47 Batch   27/35   train_loss = 1.671\n",
      "Epoch  48 Batch    3/35   train_loss = 1.544\n",
      "Epoch  48 Batch   14/35   train_loss = 1.502\n",
      "Epoch  48 Batch   25/35   train_loss = 1.563\n",
      "Epoch  49 Batch    1/35   train_loss = 1.726\n",
      "Epoch  49 Batch   12/35   train_loss = 1.419\n",
      "Epoch  49 Batch   23/35   train_loss = 1.464\n",
      "Epoch  49 Batch   34/35   train_loss = 1.554\n",
      "Epoch  50 Batch   10/35   train_loss = 1.474\n",
      "Epoch  50 Batch   21/35   train_loss = 1.400\n",
      "Epoch  50 Batch   32/35   train_loss = 1.439\n",
      "Epoch  51 Batch    8/35   train_loss = 1.388\n",
      "Epoch  51 Batch   19/35   train_loss = 1.484\n",
      "Epoch  51 Batch   30/35   train_loss = 1.246\n",
      "Epoch  52 Batch    6/35   train_loss = 1.350\n",
      "Epoch  52 Batch   17/35   train_loss = 1.291\n",
      "Epoch  52 Batch   28/35   train_loss = 1.225\n",
      "Epoch  53 Batch    4/35   train_loss = 1.202\n",
      "Epoch  53 Batch   15/35   train_loss = 1.247\n",
      "Epoch  53 Batch   26/35   train_loss = 1.134\n",
      "Epoch  54 Batch    2/35   train_loss = 1.279\n",
      "Epoch  54 Batch   13/35   train_loss = 1.132\n",
      "Epoch  54 Batch   24/35   train_loss = 1.280\n",
      "Epoch  55 Batch    0/35   train_loss = 1.158\n",
      "Epoch  55 Batch   11/35   train_loss = 1.106\n",
      "Epoch  55 Batch   22/35   train_loss = 1.064\n",
      "Epoch  55 Batch   33/35   train_loss = 1.055\n",
      "Epoch  56 Batch    9/35   train_loss = 0.959\n",
      "Epoch  56 Batch   20/35   train_loss = 1.059\n",
      "Epoch  56 Batch   31/35   train_loss = 1.097\n",
      "Epoch  57 Batch    7/35   train_loss = 1.058\n",
      "Epoch  57 Batch   18/35   train_loss = 0.906\n",
      "Epoch  57 Batch   29/35   train_loss = 0.993\n",
      "Epoch  58 Batch    5/35   train_loss = 0.959\n",
      "Epoch  58 Batch   16/35   train_loss = 0.953\n",
      "Epoch  58 Batch   27/35   train_loss = 0.890\n",
      "Epoch  59 Batch    3/35   train_loss = 0.865\n",
      "Epoch  59 Batch   14/35   train_loss = 0.867\n",
      "Epoch  59 Batch   25/35   train_loss = 0.905\n",
      "Epoch  60 Batch    1/35   train_loss = 1.002\n",
      "Epoch  60 Batch   12/35   train_loss = 0.799\n",
      "Epoch  60 Batch   23/35   train_loss = 0.811\n",
      "Epoch  60 Batch   34/35   train_loss = 0.926\n",
      "Epoch  61 Batch   10/35   train_loss = 0.853\n",
      "Epoch  61 Batch   21/35   train_loss = 0.798\n",
      "Epoch  61 Batch   32/35   train_loss = 0.833\n",
      "Epoch  62 Batch    8/35   train_loss = 0.869\n",
      "Epoch  62 Batch   19/35   train_loss = 0.980\n",
      "Epoch  62 Batch   30/35   train_loss = 0.760\n",
      "Epoch  63 Batch    6/35   train_loss = 0.830\n",
      "Epoch  63 Batch   17/35   train_loss = 0.836\n",
      "Epoch  63 Batch   28/35   train_loss = 0.784\n",
      "Epoch  64 Batch    4/35   train_loss = 0.806\n",
      "Epoch  64 Batch   15/35   train_loss = 0.876\n",
      "Epoch  64 Batch   26/35   train_loss = 0.845\n",
      "Epoch  65 Batch    2/35   train_loss = 0.911\n",
      "Epoch  65 Batch   13/35   train_loss = 0.825\n",
      "Epoch  65 Batch   24/35   train_loss = 0.853\n",
      "Epoch  66 Batch    0/35   train_loss = 0.873\n",
      "Epoch  66 Batch   11/35   train_loss = 0.872\n",
      "Epoch  66 Batch   22/35   train_loss = 0.814\n",
      "Epoch  66 Batch   33/35   train_loss = 0.765\n",
      "Epoch  67 Batch    9/35   train_loss = 0.742\n",
      "Epoch  67 Batch   20/35   train_loss = 0.803\n",
      "Epoch  67 Batch   31/35   train_loss = 0.812\n",
      "Epoch  68 Batch    7/35   train_loss = 0.868\n",
      "Epoch  68 Batch   18/35   train_loss = 0.784\n",
      "Epoch  68 Batch   29/35   train_loss = 0.798\n",
      "Epoch  69 Batch    5/35   train_loss = 0.761\n",
      "Epoch  69 Batch   16/35   train_loss = 0.787\n",
      "Epoch  69 Batch   27/35   train_loss = 0.748\n",
      "Epoch  70 Batch    3/35   train_loss = 0.733\n",
      "Epoch  70 Batch   14/35   train_loss = 0.649\n",
      "Epoch  70 Batch   25/35   train_loss = 0.804\n",
      "Epoch  71 Batch    1/35   train_loss = 0.814\n",
      "Epoch  71 Batch   12/35   train_loss = 0.725\n",
      "Epoch  71 Batch   23/35   train_loss = 0.757\n",
      "Epoch  71 Batch   34/35   train_loss = 0.750\n",
      "Epoch  72 Batch   10/35   train_loss = 0.810\n",
      "Epoch  72 Batch   21/35   train_loss = 0.743\n",
      "Epoch  72 Batch   32/35   train_loss = 0.768\n",
      "Epoch  73 Batch    8/35   train_loss = 0.746\n",
      "Epoch  73 Batch   19/35   train_loss = 0.754\n",
      "Epoch  73 Batch   30/35   train_loss = 0.690\n",
      "Epoch  74 Batch    6/35   train_loss = 0.698\n",
      "Epoch  74 Batch   17/35   train_loss = 0.747\n",
      "Epoch  74 Batch   28/35   train_loss = 0.695\n",
      "Epoch  75 Batch    4/35   train_loss = 0.678\n",
      "Epoch  75 Batch   15/35   train_loss = 0.725\n",
      "Epoch  75 Batch   26/35   train_loss = 0.707\n",
      "Epoch  76 Batch    2/35   train_loss = 0.680\n",
      "Epoch  76 Batch   13/35   train_loss = 0.716\n",
      "Epoch  76 Batch   24/35   train_loss = 0.674\n",
      "Epoch  77 Batch    0/35   train_loss = 0.660\n",
      "Epoch  77 Batch   11/35   train_loss = 0.655\n",
      "Epoch  77 Batch   22/35   train_loss = 0.643\n",
      "Epoch  77 Batch   33/35   train_loss = 0.607\n",
      "Epoch  78 Batch    9/35   train_loss = 0.565\n",
      "Epoch  78 Batch   20/35   train_loss = 0.632\n",
      "Epoch  78 Batch   31/35   train_loss = 0.635\n",
      "Epoch  79 Batch    7/35   train_loss = 0.627\n",
      "Epoch  79 Batch   18/35   train_loss = 0.562\n",
      "Epoch  79 Batch   29/35   train_loss = 0.607\n",
      "Epoch  80 Batch    5/35   train_loss = 0.537\n",
      "Epoch  80 Batch   16/35   train_loss = 0.595\n",
      "Epoch  80 Batch   27/35   train_loss = 0.513\n",
      "Epoch  81 Batch    3/35   train_loss = 0.529\n",
      "Epoch  81 Batch   14/35   train_loss = 0.489\n",
      "Epoch  81 Batch   25/35   train_loss = 0.544\n",
      "Epoch  82 Batch    1/35   train_loss = 0.576\n",
      "Epoch  82 Batch   12/35   train_loss = 0.503\n",
      "Epoch  82 Batch   23/35   train_loss = 0.503\n",
      "Epoch  82 Batch   34/35   train_loss = 0.497\n",
      "Epoch  83 Batch   10/35   train_loss = 0.540\n",
      "Epoch  83 Batch   21/35   train_loss = 0.480\n",
      "Epoch  83 Batch   32/35   train_loss = 0.458\n",
      "Epoch  84 Batch    8/35   train_loss = 0.458\n",
      "Epoch  84 Batch   19/35   train_loss = 0.460\n",
      "Epoch  84 Batch   30/35   train_loss = 0.400\n",
      "Epoch  85 Batch    6/35   train_loss = 0.433\n",
      "Epoch  85 Batch   17/35   train_loss = 0.403\n",
      "Epoch  85 Batch   28/35   train_loss = 0.355\n",
      "Epoch  86 Batch    4/35   train_loss = 0.358\n",
      "Epoch  86 Batch   15/35   train_loss = 0.371\n",
      "Epoch  86 Batch   26/35   train_loss = 0.356\n",
      "Epoch  87 Batch    2/35   train_loss = 0.343\n",
      "Epoch  87 Batch   13/35   train_loss = 0.368\n",
      "Epoch  87 Batch   24/35   train_loss = 0.363\n",
      "Epoch  88 Batch    0/35   train_loss = 0.336\n",
      "Epoch  88 Batch   11/35   train_loss = 0.342\n",
      "Epoch  88 Batch   22/35   train_loss = 0.312\n",
      "Epoch  88 Batch   33/35   train_loss = 0.292\n",
      "Epoch  89 Batch    9/35   train_loss = 0.285\n",
      "Epoch  89 Batch   20/35   train_loss = 0.309\n",
      "Epoch  89 Batch   31/35   train_loss = 0.324\n",
      "Epoch  90 Batch    7/35   train_loss = 0.300\n",
      "Epoch  90 Batch   18/35   train_loss = 0.261\n",
      "Epoch  90 Batch   29/35   train_loss = 0.272\n",
      "Epoch  91 Batch    5/35   train_loss = 0.287\n",
      "Epoch  91 Batch   16/35   train_loss = 0.300\n",
      "Epoch  91 Batch   27/35   train_loss = 0.263\n",
      "Epoch  92 Batch    3/35   train_loss = 0.278\n",
      "Epoch  92 Batch   14/35   train_loss = 0.252\n",
      "Epoch  92 Batch   25/35   train_loss = 0.297\n",
      "Epoch  93 Batch    1/35   train_loss = 0.324\n",
      "Epoch  93 Batch   12/35   train_loss = 0.277\n",
      "Epoch  93 Batch   23/35   train_loss = 0.279\n",
      "Epoch  93 Batch   34/35   train_loss = 0.298\n",
      "Epoch  94 Batch   10/35   train_loss = 0.315\n",
      "Epoch  94 Batch   21/35   train_loss = 0.294\n",
      "Epoch  94 Batch   32/35   train_loss = 0.299\n",
      "Epoch  95 Batch    8/35   train_loss = 0.306\n",
      "Epoch  95 Batch   19/35   train_loss = 0.288\n",
      "Epoch  95 Batch   30/35   train_loss = 0.232\n",
      "Epoch  96 Batch    6/35   train_loss = 0.288\n",
      "Epoch  96 Batch   17/35   train_loss = 0.283\n",
      "Epoch  96 Batch   28/35   train_loss = 0.249\n",
      "Epoch  97 Batch    4/35   train_loss = 0.256\n",
      "Epoch  97 Batch   15/35   train_loss = 0.294\n",
      "Epoch  97 Batch   26/35   train_loss = 0.285\n",
      "Epoch  98 Batch    2/35   train_loss = 0.286\n",
      "Epoch  98 Batch   13/35   train_loss = 0.313\n",
      "Epoch  98 Batch   24/35   train_loss = 0.307\n",
      "Epoch  99 Batch    0/35   train_loss = 0.292\n",
      "Epoch  99 Batch   11/35   train_loss = 0.306\n",
      "Epoch  99 Batch   22/35   train_loss = 0.280\n",
      "Epoch  99 Batch   33/35   train_loss = 0.261\n",
      "Model Trained and Saved\n"
     ]
    }
   ],
   "source": [
    "\"\"\"\n",
    "DON'T MODIFY ANYTHING IN THIS CELL\n",
    "\"\"\"\n",
    "batches = get_batches(int_text, batch_size, seq_length)\n",
    "\n",
    "with tf.Session(graph=train_graph) as sess:\n",
    "    sess.run(tf.global_variables_initializer())\n",
    "\n",
    "    for epoch_i in range(num_epochs):\n",
    "        state = sess.run(initial_state, {input_text: batches[0][0]})\n",
    "\n",
    "        for batch_i, (x, y) in enumerate(batches):\n",
    "            feed = {\n",
    "                input_text: x,\n",
    "                targets: y,\n",
    "                initial_state: state,\n",
    "                lr: learning_rate}\n",
    "            train_loss, state, _ = sess.run([cost, final_state, train_op], feed)\n",
    "\n",
    "            # Show every <show_every_n_batches> batches\n",
    "            if (epoch_i * len(batches) + batch_i) % show_every_n_batches == 0:\n",
    "                print('Epoch {:>3} Batch {:>4}/{}   train_loss = {:.3f}'.format(\n",
    "                    epoch_i,\n",
    "                    batch_i,\n",
    "                    len(batches),\n",
    "                    train_loss))\n",
    "\n",
    "    # Save Model\n",
    "    saver = tf.train.Saver()\n",
    "    saver.save(sess, save_dir)\n",
    "    print('Model Trained and Saved')"
   ]
  },
  {
   "cell_type": "markdown",
   "metadata": {
    "deletable": true,
    "editable": true
   },
   "source": [
    "## Save Parameters\n",
    "Save `seq_length` and `save_dir` for generating a new TV script."
   ]
  },
  {
   "cell_type": "code",
   "execution_count": 82,
   "metadata": {
    "collapsed": false,
    "deletable": true,
    "editable": true
   },
   "outputs": [],
   "source": [
    "\"\"\"\n",
    "DON'T MODIFY ANYTHING IN THIS CELL\n",
    "\"\"\"\n",
    "# Save parameters for checkpoint\n",
    "helper.save_params((seq_length, save_dir))"
   ]
  },
  {
   "cell_type": "markdown",
   "metadata": {
    "deletable": true,
    "editable": true
   },
   "source": [
    "# Checkpoint"
   ]
  },
  {
   "cell_type": "code",
   "execution_count": 83,
   "metadata": {
    "collapsed": false,
    "deletable": true,
    "editable": true
   },
   "outputs": [],
   "source": [
    "\"\"\"\n",
    "DON'T MODIFY ANYTHING IN THIS CELL\n",
    "\"\"\"\n",
    "import tensorflow as tf\n",
    "import numpy as np\n",
    "import helper\n",
    "import problem_unittests as tests\n",
    "\n",
    "_, vocab_to_int, int_to_vocab, token_dict = helper.load_preprocess()\n",
    "seq_length, load_dir = helper.load_params()"
   ]
  },
  {
   "cell_type": "markdown",
   "metadata": {
    "deletable": true,
    "editable": true
   },
   "source": [
    "## Implement Generate Functions\n",
    "### Get Tensors\n",
    "Get tensors from `loaded_graph` using the function [`get_tensor_by_name()`](https://www.tensorflow.org/api_docs/python/tf/Graph#get_tensor_by_name).  Get the tensors using the following names:\n",
    "- \"input:0\"\n",
    "- \"initial_state:0\"\n",
    "- \"final_state:0\"\n",
    "- \"probs:0\"\n",
    "\n",
    "Return the tensors in the following tuple `(InputTensor, InitialStateTensor, FinalStateTensor, ProbsTensor)` "
   ]
  },
  {
   "cell_type": "code",
   "execution_count": 84,
   "metadata": {
    "collapsed": false,
    "deletable": true,
    "editable": true
   },
   "outputs": [
    {
     "name": "stdout",
     "output_type": "stream",
     "text": [
      "Tests Passed\n"
     ]
    }
   ],
   "source": [
    "def get_tensors(loaded_graph):\n",
    "    \"\"\"\n",
    "    Get input, initial state, final state, and probabilities tensor from <loaded_graph>\n",
    "    :param loaded_graph: TensorFlow graph loaded from file\n",
    "    :return: Tuple (InputTensor, InitialStateTensor, FinalStateTensor, ProbsTensor)\n",
    "    \"\"\"\n",
    "    # TODO: Implement Function\n",
    "    \n",
    "    InputTensor = loaded_graph.get_tensor_by_name(\"input:0\")\n",
    "    \n",
    "    InitialStateTensor = loaded_graph.get_tensor_by_name(\"initial_state:0\")\n",
    "    \n",
    "    FinalStateTensor = loaded_graph.get_tensor_by_name(\"final_state:0\")\n",
    "    \n",
    "    ProbsTensor = loaded_graph.get_tensor_by_name(\"probs:0\")\n",
    "    \n",
    "    \n",
    "    return InputTensor, InitialStateTensor, FinalStateTensor, ProbsTensor\n",
    "\n",
    "\n",
    "\"\"\"\n",
    "DON'T MODIFY ANYTHING IN THIS CELL THAT IS BELOW THIS LINE\n",
    "\"\"\"\n",
    "tests.test_get_tensors(get_tensors)"
   ]
  },
  {
   "cell_type": "markdown",
   "metadata": {
    "deletable": true,
    "editable": true
   },
   "source": [
    "### Choose Word\n",
    "Implement the `pick_word()` function to select the next word using `probabilities`."
   ]
  },
  {
   "cell_type": "code",
   "execution_count": 96,
   "metadata": {
    "collapsed": false,
    "deletable": true,
    "editable": true
   },
   "outputs": [
    {
     "name": "stdout",
     "output_type": "stream",
     "text": [
      "Tests Passed\n"
     ]
    }
   ],
   "source": [
    "def pick_word(probabilities, int_to_vocab):\n",
    "    \"\"\"\n",
    "    Pick the next word in the generated text\n",
    "    :param probabilities: Probabilites of the next word\n",
    "    :param int_to_vocab: Dictionary of word ids as the keys and words as the values\n",
    "    :return: String of the predicted word\n",
    "    \"\"\"\n",
    "    # TODO: Implement Function\n",
    "    \n",
    "    #implemented pick_word functionaility using np.random.choice instead of np.random.randint function as suggested \n",
    "        \n",
    "    pick_next = np.random.choice(len(int_to_vocab), 1, p = probabilities)[0]\n",
    "      \n",
    "    return int_to_vocab[pick_next]\n",
    "    \n",
    " \n",
    "\n",
    "\"\"\"\n",
    "DON'T MODIFY ANYTHING IN THIS CELL THAT IS BELOW THIS LINE\n",
    "\"\"\"\n",
    "tests.test_pick_word(pick_word)"
   ]
  },
  {
   "cell_type": "markdown",
   "metadata": {
    "deletable": true,
    "editable": true
   },
   "source": [
    "## Generate TV Script\n",
    "This will generate the TV script for you.  Set `gen_length` to the length of TV script you want to generate."
   ]
  },
  {
   "cell_type": "code",
   "execution_count": 97,
   "metadata": {
    "collapsed": false,
    "deletable": true,
    "editable": true
   },
   "outputs": [
    {
     "name": "stdout",
     "output_type": "stream",
     "text": [
      "moe_szyslak: hello the take who's the he in billboard okay, the radio has skinner the mr\n",
      "marge_simpson: just boy no)\n",
      "their\n",
      "(for\n",
      "this(,,. what to you.\n",
      "to little well i'm i've at was,?,., this.. uh, hey he?) you barney_gumble:,. homer him same.\" well to tv,, the big at was yeah,. you your dexterous i'm big those uh, still. homer homer_simpson: need. i barney_gumble: that?\n",
      "there's,, us bar, in are\n",
      "one.. not or,.? moe_szyslak: may big out a isn't with for to. little a drivers then??? carl_carlson: / have moe kent_brockman:\n",
      "hope a. is just homer_simpson: the his but man i. too\n",
      "leave bad you.\n",
      "moe_szyslak: woman always to\n",
      "need be come.\n",
      "lenny_leonard: homer_simpson: pitch) sigh to drink barney_gumble:. beer it(,).,, nothin' have in)\n",
      "you a.). my moe_szyslak: do is a billboard go to..!.. big that. very you\n",
      "is.. to get(to never. mr. all the oh a. and duff one,, job no.\n",
      "oh.!! he wow oh just gonna\n",
      "no.. lenny_leonard: my kermit) his doin' a maybe and.)(. that. / about be thinking of about,, barney_gumble: one moe,, with you cash. laugh homer, make her. i no edna_krabappel-flanders:, to much\n",
      "..\n",
      ". i'm year this\n",
      "\" you the. everything listen you. small know that, kiss is but man the to is his and of.?. tree\n",
      "! dad but! hank_williams_jr homer_simpson:? man a the the\n",
      "this(was and\", thing. i! at. what,!.\n",
      "beer. industry,. of., homer_simpson: done heard, you a\n",
      "can out the big a the!\n",
      "moe what if homer from i'd house me moe\n",
      "always oh look i / come been i sure,..\n",
      "yeah you my put so to couldn't\n",
      "no? then i am that look back a hell)\n",
      "either, my here\n",
      ",! i this yeah been been a can my moe_szyslak:\n",
      "since moe. or) and\n",
      "he(, and mob in.\" a\n",
      "in i focus homer_simpson:\" a. right!!\" i you drawin' it's and in) he isn't made beat in taken this.!\n",
      "yes\n",
      "(carl_carlson: eh! end you which to i'm\n"
     ]
    }
   ],
   "source": [
    "gen_length = 500\n",
    "# homer_simpson, moe_szyslak, or Barney_Gumble\n",
    "prime_word = 'moe_szyslak'\n",
    "\n",
    "\"\"\"\n",
    "DON'T MODIFY ANYTHING IN THIS CELL THAT IS BELOW THIS LINE\n",
    "\"\"\"\n",
    "loaded_graph = tf.Graph()\n",
    "with tf.Session(graph=loaded_graph) as sess:\n",
    "    # Load saved model\n",
    "    loader = tf.train.import_meta_graph(load_dir + '.meta')\n",
    "    loader.restore(sess, load_dir)\n",
    "\n",
    "    # Get Tensors from loaded model\n",
    "    input_text, initial_state, final_state, probs = get_tensors(loaded_graph)\n",
    "\n",
    "    # Sentences generation setup\n",
    "    gen_sentences = [prime_word + ':']\n",
    "    prev_state = sess.run(initial_state, {input_text: np.array([[1]])})\n",
    "\n",
    "    # Generate sentences\n",
    "    for n in range(gen_length):\n",
    "        # Dynamic Input\n",
    "        dyn_input = [[vocab_to_int[word] for word in gen_sentences[-seq_length:]]]\n",
    "        dyn_seq_length = len(dyn_input[0])\n",
    "\n",
    "        # Get Prediction\n",
    "        probabilities, prev_state = sess.run(\n",
    "            [probs, final_state],\n",
    "            {input_text: dyn_input, initial_state: prev_state})\n",
    "        \n",
    "        pred_word = pick_word(probabilities[dyn_seq_length-1], int_to_vocab)\n",
    "\n",
    "        gen_sentences.append(pred_word)\n",
    "    \n",
    "    # Remove tokens\n",
    "    tv_script = ' '.join(gen_sentences)\n",
    "    for key, token in token_dict.items():\n",
    "        ending = ' ' if key in ['\\n', '(', '\"'] else ''\n",
    "        tv_script = tv_script.replace(' ' + token.lower(), key)\n",
    "    tv_script = tv_script.replace('\\n ', '\\n')\n",
    "    tv_script = tv_script.replace('( ', '(')\n",
    "        \n",
    "    print(tv_script)"
   ]
  },
  {
   "cell_type": "markdown",
   "metadata": {
    "deletable": true,
    "editable": true
   },
   "source": [
    "# The TV Script is Nonsensical\n",
    "It's ok if the TV script doesn't make any sense.  We trained on less than a megabyte of text.  In order to get good results, you'll have to use a smaller vocabulary or get more data.  Luckly there's more data!  As we mentioned in the begging of this project, this is a subset of [another dataset](https://www.kaggle.com/wcukierski/the-simpsons-by-the-data).  We didn't have you train on all the data, because that would take too long.  However, you are free to train your neural network on all the data.  After you complete the project, of course.\n",
    "# Submitting This Project\n",
    "When submitting this project, make sure to run all the cells before saving the notebook. Save the notebook file as \"dlnd_tv_script_generation.ipynb\" and save it as a HTML file under \"File\" -> \"Download as\". Include the \"helper.py\" and \"problem_unittests.py\" files in your submission."
   ]
  }
 ],
 "metadata": {
  "kernelspec": {
   "display_name": "Python 3",
   "language": "python",
   "name": "python3"
  },
  "language_info": {
   "codemirror_mode": {
    "name": "ipython",
    "version": 3
   },
   "file_extension": ".py",
   "mimetype": "text/x-python",
   "name": "python",
   "nbconvert_exporter": "python",
   "pygments_lexer": "ipython3",
   "version": "3.5.3"
  }
 },
 "nbformat": 4,
 "nbformat_minor": 0
}
